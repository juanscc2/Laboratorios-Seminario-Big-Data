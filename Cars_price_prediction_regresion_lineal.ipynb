{
  "cells": [
    {
      "cell_type": "markdown",
      "metadata": {
        "id": "view-in-github",
        "colab_type": "text"
      },
      "source": [
        "<a href=\"https://colab.research.google.com/github/juanscc2/Laboratorios-Seminario-Big-Data/blob/main/Cars_price_prediction_regresion_lineal.ipynb\" target=\"_parent\"><img src=\"https://colab.research.google.com/assets/colab-badge.svg\" alt=\"Open In Colab\"/></a>"
      ]
    },
    {
      "cell_type": "markdown",
      "id": "d95f2ef3",
      "metadata": {
        "id": "d95f2ef3"
      },
      "source": [
        "\n",
        "Juan Sebastian Cortes Chia-95032\n",
        "Jhonatan Rios Tapiero-95520\n",
        "Busqueda Mazda 3\n",
        "\n"
      ]
    },
    {
      "cell_type": "markdown",
      "id": "bc4c3640",
      "metadata": {
        "id": "bc4c3640"
      },
      "source": [
        "## Data understanding"
      ]
    },
    {
      "cell_type": "markdown",
      "id": "2cee4321",
      "metadata": {
        "id": "2cee4321"
      },
      "source": [
        "### Import libraries"
      ]
    },
    {
      "cell_type": "code",
      "execution_count": 1,
      "id": "ae6857d8",
      "metadata": {
        "id": "ae6857d8"
      },
      "outputs": [],
      "source": [
        "import numpy as np\n",
        "import pandas as pd\n",
        "import matplotlib.pyplot as plt\n",
        "import seaborn as sns\n",
        "import re"
      ]
    },
    {
      "cell_type": "markdown",
      "id": "634627c4",
      "metadata": {
        "id": "634627c4"
      },
      "source": [
        "### Load data"
      ]
    },
    {
      "cell_type": "code",
      "execution_count": 2,
      "id": "270a026f",
      "metadata": {
        "id": "270a026f",
        "outputId": "58e8f737-338e-4b8a-fd42-536600a47ab9",
        "colab": {
          "base_uri": "https://localhost:8080/",
          "height": 224
        }
      },
      "outputs": [
        {
          "output_type": "stream",
          "name": "stdout",
          "text": [
            "(52, 6)\n"
          ]
        },
        {
          "output_type": "execute_result",
          "data": {
            "text/plain": [
              "                             model        price  year   kms     color  \\\n",
              "0              Mazda 3 2.0 Touring  $57.000.000  2016  92.0      Azul   \n",
              "1  Mazda CX-5 2.5 Grand Touring Lx  $79.800.000  2016  82.0      Rojo   \n",
              "2            Mazda 3 GRAND TOURING  $68.900.000  2017  41.0  Plateado   \n",
              "3        Mazda 3 2.0 Grand Touring  $59.000.000  2015  77.0      Azul   \n",
              "4      Mazda CX-30 2.0  Touring MT  $95.000.000  2023  16.0    Blanco   \n",
              "\n",
              "   fueltype  \n",
              "0  Gasolina  \n",
              "1  Gasolina  \n",
              "2  Gasolina  \n",
              "3  Gasolina  \n",
              "4  Gasolina  "
            ],
            "text/html": [
              "\n",
              "  <div id=\"df-0f4ace15-06a1-406c-a944-387eda25b104\" class=\"colab-df-container\">\n",
              "    <div>\n",
              "<style scoped>\n",
              "    .dataframe tbody tr th:only-of-type {\n",
              "        vertical-align: middle;\n",
              "    }\n",
              "\n",
              "    .dataframe tbody tr th {\n",
              "        vertical-align: top;\n",
              "    }\n",
              "\n",
              "    .dataframe thead th {\n",
              "        text-align: right;\n",
              "    }\n",
              "</style>\n",
              "<table border=\"1\" class=\"dataframe\">\n",
              "  <thead>\n",
              "    <tr style=\"text-align: right;\">\n",
              "      <th></th>\n",
              "      <th>model</th>\n",
              "      <th>price</th>\n",
              "      <th>year</th>\n",
              "      <th>kms</th>\n",
              "      <th>color</th>\n",
              "      <th>fueltype</th>\n",
              "    </tr>\n",
              "  </thead>\n",
              "  <tbody>\n",
              "    <tr>\n",
              "      <th>0</th>\n",
              "      <td>Mazda 3 2.0 Touring</td>\n",
              "      <td>$57.000.000</td>\n",
              "      <td>2016</td>\n",
              "      <td>92.0</td>\n",
              "      <td>Azul</td>\n",
              "      <td>Gasolina</td>\n",
              "    </tr>\n",
              "    <tr>\n",
              "      <th>1</th>\n",
              "      <td>Mazda CX-5 2.5 Grand Touring Lx</td>\n",
              "      <td>$79.800.000</td>\n",
              "      <td>2016</td>\n",
              "      <td>82.0</td>\n",
              "      <td>Rojo</td>\n",
              "      <td>Gasolina</td>\n",
              "    </tr>\n",
              "    <tr>\n",
              "      <th>2</th>\n",
              "      <td>Mazda 3 GRAND TOURING</td>\n",
              "      <td>$68.900.000</td>\n",
              "      <td>2017</td>\n",
              "      <td>41.0</td>\n",
              "      <td>Plateado</td>\n",
              "      <td>Gasolina</td>\n",
              "    </tr>\n",
              "    <tr>\n",
              "      <th>3</th>\n",
              "      <td>Mazda 3 2.0 Grand Touring</td>\n",
              "      <td>$59.000.000</td>\n",
              "      <td>2015</td>\n",
              "      <td>77.0</td>\n",
              "      <td>Azul</td>\n",
              "      <td>Gasolina</td>\n",
              "    </tr>\n",
              "    <tr>\n",
              "      <th>4</th>\n",
              "      <td>Mazda CX-30 2.0  Touring MT</td>\n",
              "      <td>$95.000.000</td>\n",
              "      <td>2023</td>\n",
              "      <td>16.0</td>\n",
              "      <td>Blanco</td>\n",
              "      <td>Gasolina</td>\n",
              "    </tr>\n",
              "  </tbody>\n",
              "</table>\n",
              "</div>\n",
              "    <div class=\"colab-df-buttons\">\n",
              "\n",
              "  <div class=\"colab-df-container\">\n",
              "    <button class=\"colab-df-convert\" onclick=\"convertToInteractive('df-0f4ace15-06a1-406c-a944-387eda25b104')\"\n",
              "            title=\"Convert this dataframe to an interactive table.\"\n",
              "            style=\"display:none;\">\n",
              "\n",
              "  <svg xmlns=\"http://www.w3.org/2000/svg\" height=\"24px\" viewBox=\"0 -960 960 960\">\n",
              "    <path d=\"M120-120v-720h720v720H120Zm60-500h600v-160H180v160Zm220 220h160v-160H400v160Zm0 220h160v-160H400v160ZM180-400h160v-160H180v160Zm440 0h160v-160H620v160ZM180-180h160v-160H180v160Zm440 0h160v-160H620v160Z\"/>\n",
              "  </svg>\n",
              "    </button>\n",
              "\n",
              "  <style>\n",
              "    .colab-df-container {\n",
              "      display:flex;\n",
              "      gap: 12px;\n",
              "    }\n",
              "\n",
              "    .colab-df-convert {\n",
              "      background-color: #E8F0FE;\n",
              "      border: none;\n",
              "      border-radius: 50%;\n",
              "      cursor: pointer;\n",
              "      display: none;\n",
              "      fill: #1967D2;\n",
              "      height: 32px;\n",
              "      padding: 0 0 0 0;\n",
              "      width: 32px;\n",
              "    }\n",
              "\n",
              "    .colab-df-convert:hover {\n",
              "      background-color: #E2EBFA;\n",
              "      box-shadow: 0px 1px 2px rgba(60, 64, 67, 0.3), 0px 1px 3px 1px rgba(60, 64, 67, 0.15);\n",
              "      fill: #174EA6;\n",
              "    }\n",
              "\n",
              "    .colab-df-buttons div {\n",
              "      margin-bottom: 4px;\n",
              "    }\n",
              "\n",
              "    [theme=dark] .colab-df-convert {\n",
              "      background-color: #3B4455;\n",
              "      fill: #D2E3FC;\n",
              "    }\n",
              "\n",
              "    [theme=dark] .colab-df-convert:hover {\n",
              "      background-color: #434B5C;\n",
              "      box-shadow: 0px 1px 3px 1px rgba(0, 0, 0, 0.15);\n",
              "      filter: drop-shadow(0px 1px 2px rgba(0, 0, 0, 0.3));\n",
              "      fill: #FFFFFF;\n",
              "    }\n",
              "  </style>\n",
              "\n",
              "    <script>\n",
              "      const buttonEl =\n",
              "        document.querySelector('#df-0f4ace15-06a1-406c-a944-387eda25b104 button.colab-df-convert');\n",
              "      buttonEl.style.display =\n",
              "        google.colab.kernel.accessAllowed ? 'block' : 'none';\n",
              "\n",
              "      async function convertToInteractive(key) {\n",
              "        const element = document.querySelector('#df-0f4ace15-06a1-406c-a944-387eda25b104');\n",
              "        const dataTable =\n",
              "          await google.colab.kernel.invokeFunction('convertToInteractive',\n",
              "                                                    [key], {});\n",
              "        if (!dataTable) return;\n",
              "\n",
              "        const docLinkHtml = 'Like what you see? Visit the ' +\n",
              "          '<a target=\"_blank\" href=https://colab.research.google.com/notebooks/data_table.ipynb>data table notebook</a>'\n",
              "          + ' to learn more about interactive tables.';\n",
              "        element.innerHTML = '';\n",
              "        dataTable['output_type'] = 'display_data';\n",
              "        await google.colab.output.renderOutput(dataTable, element);\n",
              "        const docLink = document.createElement('div');\n",
              "        docLink.innerHTML = docLinkHtml;\n",
              "        element.appendChild(docLink);\n",
              "      }\n",
              "    </script>\n",
              "  </div>\n",
              "\n",
              "\n",
              "<div id=\"df-e326767c-e9f7-4617-ae7d-6ba3ede58c87\">\n",
              "  <button class=\"colab-df-quickchart\" onclick=\"quickchart('df-e326767c-e9f7-4617-ae7d-6ba3ede58c87')\"\n",
              "            title=\"Suggest charts\"\n",
              "            style=\"display:none;\">\n",
              "\n",
              "<svg xmlns=\"http://www.w3.org/2000/svg\" height=\"24px\"viewBox=\"0 0 24 24\"\n",
              "     width=\"24px\">\n",
              "    <g>\n",
              "        <path d=\"M19 3H5c-1.1 0-2 .9-2 2v14c0 1.1.9 2 2 2h14c1.1 0 2-.9 2-2V5c0-1.1-.9-2-2-2zM9 17H7v-7h2v7zm4 0h-2V7h2v10zm4 0h-2v-4h2v4z\"/>\n",
              "    </g>\n",
              "</svg>\n",
              "  </button>\n",
              "\n",
              "<style>\n",
              "  .colab-df-quickchart {\n",
              "      --bg-color: #E8F0FE;\n",
              "      --fill-color: #1967D2;\n",
              "      --hover-bg-color: #E2EBFA;\n",
              "      --hover-fill-color: #174EA6;\n",
              "      --disabled-fill-color: #AAA;\n",
              "      --disabled-bg-color: #DDD;\n",
              "  }\n",
              "\n",
              "  [theme=dark] .colab-df-quickchart {\n",
              "      --bg-color: #3B4455;\n",
              "      --fill-color: #D2E3FC;\n",
              "      --hover-bg-color: #434B5C;\n",
              "      --hover-fill-color: #FFFFFF;\n",
              "      --disabled-bg-color: #3B4455;\n",
              "      --disabled-fill-color: #666;\n",
              "  }\n",
              "\n",
              "  .colab-df-quickchart {\n",
              "    background-color: var(--bg-color);\n",
              "    border: none;\n",
              "    border-radius: 50%;\n",
              "    cursor: pointer;\n",
              "    display: none;\n",
              "    fill: var(--fill-color);\n",
              "    height: 32px;\n",
              "    padding: 0;\n",
              "    width: 32px;\n",
              "  }\n",
              "\n",
              "  .colab-df-quickchart:hover {\n",
              "    background-color: var(--hover-bg-color);\n",
              "    box-shadow: 0 1px 2px rgba(60, 64, 67, 0.3), 0 1px 3px 1px rgba(60, 64, 67, 0.15);\n",
              "    fill: var(--button-hover-fill-color);\n",
              "  }\n",
              "\n",
              "  .colab-df-quickchart-complete:disabled,\n",
              "  .colab-df-quickchart-complete:disabled:hover {\n",
              "    background-color: var(--disabled-bg-color);\n",
              "    fill: var(--disabled-fill-color);\n",
              "    box-shadow: none;\n",
              "  }\n",
              "\n",
              "  .colab-df-spinner {\n",
              "    border: 2px solid var(--fill-color);\n",
              "    border-color: transparent;\n",
              "    border-bottom-color: var(--fill-color);\n",
              "    animation:\n",
              "      spin 1s steps(1) infinite;\n",
              "  }\n",
              "\n",
              "  @keyframes spin {\n",
              "    0% {\n",
              "      border-color: transparent;\n",
              "      border-bottom-color: var(--fill-color);\n",
              "      border-left-color: var(--fill-color);\n",
              "    }\n",
              "    20% {\n",
              "      border-color: transparent;\n",
              "      border-left-color: var(--fill-color);\n",
              "      border-top-color: var(--fill-color);\n",
              "    }\n",
              "    30% {\n",
              "      border-color: transparent;\n",
              "      border-left-color: var(--fill-color);\n",
              "      border-top-color: var(--fill-color);\n",
              "      border-right-color: var(--fill-color);\n",
              "    }\n",
              "    40% {\n",
              "      border-color: transparent;\n",
              "      border-right-color: var(--fill-color);\n",
              "      border-top-color: var(--fill-color);\n",
              "    }\n",
              "    60% {\n",
              "      border-color: transparent;\n",
              "      border-right-color: var(--fill-color);\n",
              "    }\n",
              "    80% {\n",
              "      border-color: transparent;\n",
              "      border-right-color: var(--fill-color);\n",
              "      border-bottom-color: var(--fill-color);\n",
              "    }\n",
              "    90% {\n",
              "      border-color: transparent;\n",
              "      border-bottom-color: var(--fill-color);\n",
              "    }\n",
              "  }\n",
              "</style>\n",
              "\n",
              "  <script>\n",
              "    async function quickchart(key) {\n",
              "      const quickchartButtonEl =\n",
              "        document.querySelector('#' + key + ' button');\n",
              "      quickchartButtonEl.disabled = true;  // To prevent multiple clicks.\n",
              "      quickchartButtonEl.classList.add('colab-df-spinner');\n",
              "      try {\n",
              "        const charts = await google.colab.kernel.invokeFunction(\n",
              "            'suggestCharts', [key], {});\n",
              "      } catch (error) {\n",
              "        console.error('Error during call to suggestCharts:', error);\n",
              "      }\n",
              "      quickchartButtonEl.classList.remove('colab-df-spinner');\n",
              "      quickchartButtonEl.classList.add('colab-df-quickchart-complete');\n",
              "    }\n",
              "    (() => {\n",
              "      let quickchartButtonEl =\n",
              "        document.querySelector('#df-e326767c-e9f7-4617-ae7d-6ba3ede58c87 button');\n",
              "      quickchartButtonEl.style.display =\n",
              "        google.colab.kernel.accessAllowed ? 'block' : 'none';\n",
              "    })();\n",
              "  </script>\n",
              "</div>\n",
              "\n",
              "    </div>\n",
              "  </div>\n"
            ],
            "application/vnd.google.colaboratory.intrinsic+json": {
              "type": "dataframe",
              "variable_name": "data",
              "summary": "{\n  \"name\": \"data\",\n  \"rows\": 52,\n  \"fields\": [\n    {\n      \"column\": \"model\",\n      \"properties\": {\n        \"dtype\": \"string\",\n        \"num_unique_values\": 45,\n        \"samples\": [\n          \"Mazda 2 1.5 Touring\",\n          \"Mazda 3 Grand Touring Lx Carbon Edition 2025\",\n          \"Mazda CX-30 2.5 Grand Touring Lx 4x4\"\n        ],\n        \"semantic_type\": \"\",\n        \"description\": \"\"\n      }\n    },\n    {\n      \"column\": \"price\",\n      \"properties\": {\n        \"dtype\": \"string\",\n        \"num_unique_values\": 47,\n        \"samples\": [\n          \"$217.000.000\",\n          \"$90.850.000\",\n          \"$89.990.000\"\n        ],\n        \"semantic_type\": \"\",\n        \"description\": \"\"\n      }\n    },\n    {\n      \"column\": \"year\",\n      \"properties\": {\n        \"dtype\": \"number\",\n        \"std\": 3,\n        \"min\": 2011,\n        \"max\": 2025,\n        \"num_unique_values\": 12,\n        \"samples\": [\n          2022,\n          2019,\n          2016\n        ],\n        \"semantic_type\": \"\",\n        \"description\": \"\"\n      }\n    },\n    {\n      \"column\": \"kms\",\n      \"properties\": {\n        \"dtype\": \"number\",\n        \"std\": 138.52159112504484,\n        \"min\": 0.0,\n        \"max\": 999.999,\n        \"num_unique_values\": 30,\n        \"samples\": [\n          55.0,\n          40.0,\n          28.315\n        ],\n        \"semantic_type\": \"\",\n        \"description\": \"\"\n      }\n    },\n    {\n      \"column\": \"color\",\n      \"properties\": {\n        \"dtype\": \"category\",\n        \"num_unique_values\": 6,\n        \"samples\": [\n          \"Azul\",\n          \"Rojo\",\n          \"Color not found\"\n        ],\n        \"semantic_type\": \"\",\n        \"description\": \"\"\n      }\n    },\n    {\n      \"column\": \"fueltype\",\n      \"properties\": {\n        \"dtype\": \"category\",\n        \"num_unique_values\": 2,\n        \"samples\": [\n          \"H\\u00c3\\u00adbrido\",\n          \"Gasolina\"\n        ],\n        \"semantic_type\": \"\",\n        \"description\": \"\"\n      }\n    }\n  ]\n}"
            }
          },
          "metadata": {},
          "execution_count": 2
        }
      ],
      "source": [
        "import pandas as pd\n",
        "\n",
        "file_path = '/content/usedCarsCol_Touring_200624.csv'\n",
        "cols = ['model', 'price', 'year', 'kms', 'color', 'fueltype']\n",
        "\n",
        "# Adjust the separator if necessary\n",
        "data = pd.read_csv(file_path, sep=',', names=cols, header=0, encoding='latin-1')\n",
        "print(data.shape)\n",
        "data.head()\n",
        "\n"
      ]
    },
    {
      "cell_type": "markdown",
      "id": "ca82276d",
      "metadata": {
        "id": "ca82276d"
      },
      "source": [
        "### Verify data types"
      ]
    },
    {
      "cell_type": "code",
      "execution_count": 3,
      "id": "998860b5",
      "metadata": {
        "id": "998860b5",
        "colab": {
          "base_uri": "https://localhost:8080/"
        },
        "outputId": "e2098b5c-dd0c-4e29-9d55-3a17157bbc41"
      },
      "outputs": [
        {
          "output_type": "execute_result",
          "data": {
            "text/plain": [
              "model        object\n",
              "price        object\n",
              "year          int64\n",
              "kms         float64\n",
              "color        object\n",
              "fueltype     object\n",
              "dtype: object"
            ]
          },
          "metadata": {},
          "execution_count": 3
        }
      ],
      "source": [
        "data.dtypes"
      ]
    },
    {
      "cell_type": "markdown",
      "id": "8dcab392",
      "metadata": {
        "id": "8dcab392"
      },
      "source": [
        "### Count unique values for each variable"
      ]
    },
    {
      "cell_type": "code",
      "execution_count": 4,
      "id": "3034ca26",
      "metadata": {
        "id": "3034ca26",
        "colab": {
          "base_uri": "https://localhost:8080/"
        },
        "outputId": "ead684d3-bd35-470f-bb5b-95ae7bb33040"
      },
      "outputs": [
        {
          "output_type": "execute_result",
          "data": {
            "text/plain": [
              "model       45\n",
              "price       47\n",
              "year        12\n",
              "kms         30\n",
              "color        6\n",
              "fueltype     2\n",
              "dtype: int64"
            ]
          },
          "metadata": {},
          "execution_count": 4
        }
      ],
      "source": [
        "data.nunique()"
      ]
    },
    {
      "cell_type": "code",
      "execution_count": 5,
      "id": "bad51e9a",
      "metadata": {
        "id": "bad51e9a",
        "colab": {
          "base_uri": "https://localhost:8080/"
        },
        "outputId": "87e9c4e3-c0e3-4c45-d9b8-58b07364d238"
      },
      "outputs": [
        {
          "output_type": "stream",
          "name": "stdout",
          "text": [
            "['Mazda 3 2.0 Touring', 'Mazda CX-5 2.5 Grand Touring Lx', 'Mazda 3 GRAND TOURING', 'Mazda 3 2.0 Grand Touring', 'Mazda CX-30 2.0  Touring MT', 'Mazda 2 Grand Touring Lx Carbon 2.0 Modelo 2025', 'Mazda cx-50 2.5 Grand Touring Awd', 'Mazda cx-50 2.5 Grand Touring 4X2', 'Mazda 3 Touring  2000cc At Aa', 'Mazda Cx-5 Touring 2.0 4x2 2025/mz 127/vf', 'Mazda 2 Sport Touring Automatico Ipm Cuero 2025', 'Mazda 6 2.5 Grand Touring Lx', 'Mazda Cx-5 Grand Touring 4x4  CarbÃ³n Edition ', 'Mazda 2 Sedan Touring Automatico PaÃ±o Ipm 2025 ', 'Mazda 3 Touring Automatico Hibrido 2025 New!!', 'Mazda Cx-30 Touring Hibrida At 2025 Mz/127/vf', 'Mazda 3 Grand Touring Lx Carbon Edition/ 170/ Lc', 'Mazda 3 2.0 Sport Grand Touring', 'Benelli Trk 251', 'Mazda Miata 2.0 Mx-5 Sport Prht 167 hp', 'Mazda CX-30 2.0 Grand Touring At', 'Mazda 3 2.0 Sport Grand Touring Lx', 'Mazda CX-9 2.5 Grand Touring Signature', 'Mazda CX-60 3.3 Grand Touring Signature Hibrido Ligero', 'Mazda 6 2.5 Grand Touring Lx 185 hp', 'Mazda 3 Grand Touring Lx Carbon Edition 2025', 'Mazda CX-30 2.5 Grand Touring Lx 4x4', 'Mazda Cx30 Grand Touring Hibrida 2025 New!!', 'Mazda CX-60 SIGNATURE', 'Mazda Cx5 Grand Touring 4x2  2.5 Modelo 2025 New!!!', 'Mazda 3 Grand Touring Lx Carbon Edition', 'Mazda CX-5 2.5 Grand Touring Lx Camioneta', 'Mazda 2 Sport Touring', 'Mazda 2 Hatchback Grand Touring', 'Mazda CX-90 Grand Touring Signature', 'Mazda CX-5 2.0 Touring Camioneta', 'Mazda 2 Sport Grand Touring Lx Modelo 2025 Ipm Vi/yr', 'Royal Enfield 401 Modelo 203 Perfecto Estado ', 'Mazda 3 2.0 CX3 TOURING AT', 'Mazda 2 1.5 Touring', 'Mazda CX-30 2.0 Grand Touring Hybrid', 'Mazda CX-30 2.0 Touring', 'Mazda CX-3 2.0 Grand Touring Lx At', 'Mazda CX-5 2.5 Touring', 'Mazda 3 2.0 Grand Touring Lx']\n",
            "['$57.000.000', '$79.800.000', '$68.900.000', '$59.000.000', '$95.000.000', '$97.500.000', '$179.750.000', '$172.950.000', '$79.000.000', '$82.000.000', '$139.800.000', '$85.350.000', '$165.900.000', '$52.000.000', '$83.550.000', '$114.000.000', '$126.000.000', '$130.950.000', '$66.900.000', '$16.990.000', '$76.900.000', '$98.000.000', '$75.000.000', '$152.000.000', '$41.500.000', '$133.900.000', '$89.990.000', '$217.000.000', '$100.000.000', '$130.450.000', '$150.000.000', '$240.600.000', '$159.200.000', '$186.350.000', '$134.400.000', '$78.000.000', '$82.300.000', '$86.150.000', '$282.600.000', '$90.850.000', '$16.900.000', '$55.000.000', '$110.000.000', '$76.990.000', '$48.900.000', '$83.000.000', '$71.000.000']\n",
            "[2016, 2017, 2015, 2023, 2025, 2024, 2020, 2011, 2021, 2019, 2022, 2018]\n",
            "[92.0, 82.0, 41.0, 77.0, 16.0, 0.0, 34.87, 30.5, 59.3, 101.0, 68.0, 5.995, 999.999, 19.0, 64.0, 40.0, 26.5, 31.0, 10.7, 21.755, 61.591, 73.0, 15.0, 28.315, 51.57, 17.0, 35.442, 55.0, 90.0, 36.0]\n",
            "['Azul', 'Rojo', 'Plateado', 'Blanco', 'Gris', 'Color not found']\n",
            "['Gasolina', 'HÃ\\xadbrido']\n"
          ]
        }
      ],
      "source": [
        "print(data['model'].unique().tolist())\n",
        "print(data['price'].unique().tolist())\n",
        "print(data['year'].unique().tolist())\n",
        "print(data['kms'].unique().tolist())\n",
        "print(data['color'].unique().tolist())\n",
        "print(data['fueltype'].unique().tolist())"
      ]
    },
    {
      "cell_type": "markdown",
      "id": "7e088992",
      "metadata": {
        "id": "7e088992"
      },
      "source": [
        "### Data transformation"
      ]
    },
    {
      "cell_type": "code",
      "execution_count": 6,
      "id": "3ed603ae",
      "metadata": {
        "id": "3ed603ae",
        "colab": {
          "base_uri": "https://localhost:8080/"
        },
        "outputId": "0b59a28c-cb8b-4ea7-e919-a9dd96e05500"
      },
      "outputs": [
        {
          "output_type": "execute_result",
          "data": {
            "text/plain": [
              "(52, 5)"
            ]
          },
          "metadata": {},
          "execution_count": 6
        }
      ],
      "source": [
        "# Copy data and remove model variable\n",
        "datacc = data\n",
        "datacc = datacc.drop(['model'], axis=1)\n",
        "datacc.shape"
      ]
    },
    {
      "cell_type": "markdown",
      "id": "ea74f1f1",
      "metadata": {
        "id": "ea74f1f1"
      },
      "source": [
        "#### Transform $price$ to numerical"
      ]
    },
    {
      "cell_type": "code",
      "source": [
        "datacc['price'] = datacc['price'].str.replace(r'[$.]', '', regex=True).astype(int)"
      ],
      "metadata": {
        "id": "1IOOPDbTT_gr"
      },
      "id": "1IOOPDbTT_gr",
      "execution_count": 7,
      "outputs": []
    },
    {
      "cell_type": "markdown",
      "id": "74f3f278",
      "metadata": {
        "id": "74f3f278"
      },
      "source": [
        "##### Transform $kms$ to numerical"
      ]
    },
    {
      "cell_type": "code",
      "source": [
        "# Elimina puntos decimales en la columna 'kms'\n",
        "datacc['kms'] = datacc['kms'].astype(str).str.replace(r'[.]', '', regex=True).astype(int)\n"
      ],
      "metadata": {
        "id": "oElTIOYjVil1"
      },
      "id": "oElTIOYjVil1",
      "execution_count": 8,
      "outputs": []
    },
    {
      "cell_type": "code",
      "source": [
        "datacc.replace({'kms': {'Publicado': 0}}, inplace=True)"
      ],
      "metadata": {
        "id": "TUhVzpp2W0PD"
      },
      "id": "TUhVzpp2W0PD",
      "execution_count": 9,
      "outputs": []
    },
    {
      "cell_type": "code",
      "source": [
        "datacc['kms'] = datacc['kms'].replace('[.]','',regex=True).astype(int)"
      ],
      "metadata": {
        "id": "pszNNsMOX1wT"
      },
      "id": "pszNNsMOX1wT",
      "execution_count": 10,
      "outputs": []
    },
    {
      "cell_type": "markdown",
      "source": [
        "##### Transform categorical variables to dummies: $year$ and $fuel type$"
      ],
      "metadata": {
        "id": "Jd3dLBdMfUnF"
      },
      "id": "Jd3dLBdMfUnF"
    },
    {
      "cell_type": "code",
      "execution_count": 11,
      "id": "b782cd53",
      "metadata": {
        "id": "b782cd53",
        "colab": {
          "base_uri": "https://localhost:8080/"
        },
        "outputId": "3b8f7c4b-5480-4d6c-dcc1-eb093953179d"
      },
      "outputs": [
        {
          "output_type": "execute_result",
          "data": {
            "text/plain": [
              "price          int64\n",
              "year           int64\n",
              "kms            int64\n",
              "color       category\n",
              "fueltype    category\n",
              "dtype: object"
            ]
          },
          "metadata": {},
          "execution_count": 11
        }
      ],
      "source": [
        "# Object to categorical\n",
        "datacc['color'] = datacc['color'].astype('category')\n",
        "datacc['fueltype'] = datacc['fueltype'].astype('category')\n",
        "datacc.dtypes"
      ]
    },
    {
      "cell_type": "code",
      "source": [
        "# Convert to dummies\n",
        "# Convert category to codes\n",
        "datacc['color']  = pd.Categorical(datacc['color']).codes\n",
        "datacc['fueltype']  = pd.Categorical(datacc['fueltype']).codes\n",
        "datacc.head()"
      ],
      "metadata": {
        "id": "eqgAwoIopDz9",
        "colab": {
          "base_uri": "https://localhost:8080/",
          "height": 206
        },
        "outputId": "2f02faa4-b14b-48f0-f182-9c9a85abe843"
      },
      "id": "eqgAwoIopDz9",
      "execution_count": 12,
      "outputs": [
        {
          "output_type": "execute_result",
          "data": {
            "text/plain": [
              "      price  year  kms  color  fueltype\n",
              "0  57000000  2016  920      0         0\n",
              "1  79800000  2016  820      5         0\n",
              "2  68900000  2017  410      4         0\n",
              "3  59000000  2015  770      0         0\n",
              "4  95000000  2023  160      1         0"
            ],
            "text/html": [
              "\n",
              "  <div id=\"df-7e4929a2-efed-4c4d-b8f0-4f1c7ec1b1eb\" class=\"colab-df-container\">\n",
              "    <div>\n",
              "<style scoped>\n",
              "    .dataframe tbody tr th:only-of-type {\n",
              "        vertical-align: middle;\n",
              "    }\n",
              "\n",
              "    .dataframe tbody tr th {\n",
              "        vertical-align: top;\n",
              "    }\n",
              "\n",
              "    .dataframe thead th {\n",
              "        text-align: right;\n",
              "    }\n",
              "</style>\n",
              "<table border=\"1\" class=\"dataframe\">\n",
              "  <thead>\n",
              "    <tr style=\"text-align: right;\">\n",
              "      <th></th>\n",
              "      <th>price</th>\n",
              "      <th>year</th>\n",
              "      <th>kms</th>\n",
              "      <th>color</th>\n",
              "      <th>fueltype</th>\n",
              "    </tr>\n",
              "  </thead>\n",
              "  <tbody>\n",
              "    <tr>\n",
              "      <th>0</th>\n",
              "      <td>57000000</td>\n",
              "      <td>2016</td>\n",
              "      <td>920</td>\n",
              "      <td>0</td>\n",
              "      <td>0</td>\n",
              "    </tr>\n",
              "    <tr>\n",
              "      <th>1</th>\n",
              "      <td>79800000</td>\n",
              "      <td>2016</td>\n",
              "      <td>820</td>\n",
              "      <td>5</td>\n",
              "      <td>0</td>\n",
              "    </tr>\n",
              "    <tr>\n",
              "      <th>2</th>\n",
              "      <td>68900000</td>\n",
              "      <td>2017</td>\n",
              "      <td>410</td>\n",
              "      <td>4</td>\n",
              "      <td>0</td>\n",
              "    </tr>\n",
              "    <tr>\n",
              "      <th>3</th>\n",
              "      <td>59000000</td>\n",
              "      <td>2015</td>\n",
              "      <td>770</td>\n",
              "      <td>0</td>\n",
              "      <td>0</td>\n",
              "    </tr>\n",
              "    <tr>\n",
              "      <th>4</th>\n",
              "      <td>95000000</td>\n",
              "      <td>2023</td>\n",
              "      <td>160</td>\n",
              "      <td>1</td>\n",
              "      <td>0</td>\n",
              "    </tr>\n",
              "  </tbody>\n",
              "</table>\n",
              "</div>\n",
              "    <div class=\"colab-df-buttons\">\n",
              "\n",
              "  <div class=\"colab-df-container\">\n",
              "    <button class=\"colab-df-convert\" onclick=\"convertToInteractive('df-7e4929a2-efed-4c4d-b8f0-4f1c7ec1b1eb')\"\n",
              "            title=\"Convert this dataframe to an interactive table.\"\n",
              "            style=\"display:none;\">\n",
              "\n",
              "  <svg xmlns=\"http://www.w3.org/2000/svg\" height=\"24px\" viewBox=\"0 -960 960 960\">\n",
              "    <path d=\"M120-120v-720h720v720H120Zm60-500h600v-160H180v160Zm220 220h160v-160H400v160Zm0 220h160v-160H400v160ZM180-400h160v-160H180v160Zm440 0h160v-160H620v160ZM180-180h160v-160H180v160Zm440 0h160v-160H620v160Z\"/>\n",
              "  </svg>\n",
              "    </button>\n",
              "\n",
              "  <style>\n",
              "    .colab-df-container {\n",
              "      display:flex;\n",
              "      gap: 12px;\n",
              "    }\n",
              "\n",
              "    .colab-df-convert {\n",
              "      background-color: #E8F0FE;\n",
              "      border: none;\n",
              "      border-radius: 50%;\n",
              "      cursor: pointer;\n",
              "      display: none;\n",
              "      fill: #1967D2;\n",
              "      height: 32px;\n",
              "      padding: 0 0 0 0;\n",
              "      width: 32px;\n",
              "    }\n",
              "\n",
              "    .colab-df-convert:hover {\n",
              "      background-color: #E2EBFA;\n",
              "      box-shadow: 0px 1px 2px rgba(60, 64, 67, 0.3), 0px 1px 3px 1px rgba(60, 64, 67, 0.15);\n",
              "      fill: #174EA6;\n",
              "    }\n",
              "\n",
              "    .colab-df-buttons div {\n",
              "      margin-bottom: 4px;\n",
              "    }\n",
              "\n",
              "    [theme=dark] .colab-df-convert {\n",
              "      background-color: #3B4455;\n",
              "      fill: #D2E3FC;\n",
              "    }\n",
              "\n",
              "    [theme=dark] .colab-df-convert:hover {\n",
              "      background-color: #434B5C;\n",
              "      box-shadow: 0px 1px 3px 1px rgba(0, 0, 0, 0.15);\n",
              "      filter: drop-shadow(0px 1px 2px rgba(0, 0, 0, 0.3));\n",
              "      fill: #FFFFFF;\n",
              "    }\n",
              "  </style>\n",
              "\n",
              "    <script>\n",
              "      const buttonEl =\n",
              "        document.querySelector('#df-7e4929a2-efed-4c4d-b8f0-4f1c7ec1b1eb button.colab-df-convert');\n",
              "      buttonEl.style.display =\n",
              "        google.colab.kernel.accessAllowed ? 'block' : 'none';\n",
              "\n",
              "      async function convertToInteractive(key) {\n",
              "        const element = document.querySelector('#df-7e4929a2-efed-4c4d-b8f0-4f1c7ec1b1eb');\n",
              "        const dataTable =\n",
              "          await google.colab.kernel.invokeFunction('convertToInteractive',\n",
              "                                                    [key], {});\n",
              "        if (!dataTable) return;\n",
              "\n",
              "        const docLinkHtml = 'Like what you see? Visit the ' +\n",
              "          '<a target=\"_blank\" href=https://colab.research.google.com/notebooks/data_table.ipynb>data table notebook</a>'\n",
              "          + ' to learn more about interactive tables.';\n",
              "        element.innerHTML = '';\n",
              "        dataTable['output_type'] = 'display_data';\n",
              "        await google.colab.output.renderOutput(dataTable, element);\n",
              "        const docLink = document.createElement('div');\n",
              "        docLink.innerHTML = docLinkHtml;\n",
              "        element.appendChild(docLink);\n",
              "      }\n",
              "    </script>\n",
              "  </div>\n",
              "\n",
              "\n",
              "<div id=\"df-73e4af8a-eabb-4aa8-b888-b1fcfc463981\">\n",
              "  <button class=\"colab-df-quickchart\" onclick=\"quickchart('df-73e4af8a-eabb-4aa8-b888-b1fcfc463981')\"\n",
              "            title=\"Suggest charts\"\n",
              "            style=\"display:none;\">\n",
              "\n",
              "<svg xmlns=\"http://www.w3.org/2000/svg\" height=\"24px\"viewBox=\"0 0 24 24\"\n",
              "     width=\"24px\">\n",
              "    <g>\n",
              "        <path d=\"M19 3H5c-1.1 0-2 .9-2 2v14c0 1.1.9 2 2 2h14c1.1 0 2-.9 2-2V5c0-1.1-.9-2-2-2zM9 17H7v-7h2v7zm4 0h-2V7h2v10zm4 0h-2v-4h2v4z\"/>\n",
              "    </g>\n",
              "</svg>\n",
              "  </button>\n",
              "\n",
              "<style>\n",
              "  .colab-df-quickchart {\n",
              "      --bg-color: #E8F0FE;\n",
              "      --fill-color: #1967D2;\n",
              "      --hover-bg-color: #E2EBFA;\n",
              "      --hover-fill-color: #174EA6;\n",
              "      --disabled-fill-color: #AAA;\n",
              "      --disabled-bg-color: #DDD;\n",
              "  }\n",
              "\n",
              "  [theme=dark] .colab-df-quickchart {\n",
              "      --bg-color: #3B4455;\n",
              "      --fill-color: #D2E3FC;\n",
              "      --hover-bg-color: #434B5C;\n",
              "      --hover-fill-color: #FFFFFF;\n",
              "      --disabled-bg-color: #3B4455;\n",
              "      --disabled-fill-color: #666;\n",
              "  }\n",
              "\n",
              "  .colab-df-quickchart {\n",
              "    background-color: var(--bg-color);\n",
              "    border: none;\n",
              "    border-radius: 50%;\n",
              "    cursor: pointer;\n",
              "    display: none;\n",
              "    fill: var(--fill-color);\n",
              "    height: 32px;\n",
              "    padding: 0;\n",
              "    width: 32px;\n",
              "  }\n",
              "\n",
              "  .colab-df-quickchart:hover {\n",
              "    background-color: var(--hover-bg-color);\n",
              "    box-shadow: 0 1px 2px rgba(60, 64, 67, 0.3), 0 1px 3px 1px rgba(60, 64, 67, 0.15);\n",
              "    fill: var(--button-hover-fill-color);\n",
              "  }\n",
              "\n",
              "  .colab-df-quickchart-complete:disabled,\n",
              "  .colab-df-quickchart-complete:disabled:hover {\n",
              "    background-color: var(--disabled-bg-color);\n",
              "    fill: var(--disabled-fill-color);\n",
              "    box-shadow: none;\n",
              "  }\n",
              "\n",
              "  .colab-df-spinner {\n",
              "    border: 2px solid var(--fill-color);\n",
              "    border-color: transparent;\n",
              "    border-bottom-color: var(--fill-color);\n",
              "    animation:\n",
              "      spin 1s steps(1) infinite;\n",
              "  }\n",
              "\n",
              "  @keyframes spin {\n",
              "    0% {\n",
              "      border-color: transparent;\n",
              "      border-bottom-color: var(--fill-color);\n",
              "      border-left-color: var(--fill-color);\n",
              "    }\n",
              "    20% {\n",
              "      border-color: transparent;\n",
              "      border-left-color: var(--fill-color);\n",
              "      border-top-color: var(--fill-color);\n",
              "    }\n",
              "    30% {\n",
              "      border-color: transparent;\n",
              "      border-left-color: var(--fill-color);\n",
              "      border-top-color: var(--fill-color);\n",
              "      border-right-color: var(--fill-color);\n",
              "    }\n",
              "    40% {\n",
              "      border-color: transparent;\n",
              "      border-right-color: var(--fill-color);\n",
              "      border-top-color: var(--fill-color);\n",
              "    }\n",
              "    60% {\n",
              "      border-color: transparent;\n",
              "      border-right-color: var(--fill-color);\n",
              "    }\n",
              "    80% {\n",
              "      border-color: transparent;\n",
              "      border-right-color: var(--fill-color);\n",
              "      border-bottom-color: var(--fill-color);\n",
              "    }\n",
              "    90% {\n",
              "      border-color: transparent;\n",
              "      border-bottom-color: var(--fill-color);\n",
              "    }\n",
              "  }\n",
              "</style>\n",
              "\n",
              "  <script>\n",
              "    async function quickchart(key) {\n",
              "      const quickchartButtonEl =\n",
              "        document.querySelector('#' + key + ' button');\n",
              "      quickchartButtonEl.disabled = true;  // To prevent multiple clicks.\n",
              "      quickchartButtonEl.classList.add('colab-df-spinner');\n",
              "      try {\n",
              "        const charts = await google.colab.kernel.invokeFunction(\n",
              "            'suggestCharts', [key], {});\n",
              "      } catch (error) {\n",
              "        console.error('Error during call to suggestCharts:', error);\n",
              "      }\n",
              "      quickchartButtonEl.classList.remove('colab-df-spinner');\n",
              "      quickchartButtonEl.classList.add('colab-df-quickchart-complete');\n",
              "    }\n",
              "    (() => {\n",
              "      let quickchartButtonEl =\n",
              "        document.querySelector('#df-73e4af8a-eabb-4aa8-b888-b1fcfc463981 button');\n",
              "      quickchartButtonEl.style.display =\n",
              "        google.colab.kernel.accessAllowed ? 'block' : 'none';\n",
              "    })();\n",
              "  </script>\n",
              "</div>\n",
              "\n",
              "    </div>\n",
              "  </div>\n"
            ],
            "application/vnd.google.colaboratory.intrinsic+json": {
              "type": "dataframe",
              "variable_name": "datacc",
              "summary": "{\n  \"name\": \"datacc\",\n  \"rows\": 52,\n  \"fields\": [\n    {\n      \"column\": \"price\",\n      \"properties\": {\n        \"dtype\": \"number\",\n        \"std\": 56021875,\n        \"min\": 16900000,\n        \"max\": 282600000,\n        \"num_unique_values\": 47,\n        \"samples\": [\n          217000000,\n          90850000,\n          89990000\n        ],\n        \"semantic_type\": \"\",\n        \"description\": \"\"\n      }\n    },\n    {\n      \"column\": \"year\",\n      \"properties\": {\n        \"dtype\": \"number\",\n        \"std\": 3,\n        \"min\": 2011,\n        \"max\": 2025,\n        \"num_unique_values\": 12,\n        \"samples\": [\n          2022,\n          2019,\n          2016\n        ],\n        \"semantic_type\": \"\",\n        \"description\": \"\"\n      }\n    },\n    {\n      \"column\": \"kms\",\n      \"properties\": {\n        \"dtype\": \"number\",\n        \"std\": 138616,\n        \"min\": 0,\n        \"max\": 999999,\n        \"num_unique_values\": 30,\n        \"samples\": [\n          550,\n          400,\n          28315\n        ],\n        \"semantic_type\": \"\",\n        \"description\": \"\"\n      }\n    },\n    {\n      \"column\": \"color\",\n      \"properties\": {\n        \"dtype\": \"int8\",\n        \"num_unique_values\": 6,\n        \"samples\": [\n          0,\n          5,\n          2\n        ],\n        \"semantic_type\": \"\",\n        \"description\": \"\"\n      }\n    },\n    {\n      \"column\": \"fueltype\",\n      \"properties\": {\n        \"dtype\": \"int8\",\n        \"num_unique_values\": 2,\n        \"samples\": [\n          1,\n          0\n        ],\n        \"semantic_type\": \"\",\n        \"description\": \"\"\n      }\n    }\n  ]\n}"
            }
          },
          "metadata": {},
          "execution_count": 12
        }
      ]
    },
    {
      "cell_type": "markdown",
      "id": "d93d3610",
      "metadata": {
        "id": "d93d3610"
      },
      "source": [
        "## Data Exploration"
      ]
    },
    {
      "cell_type": "code",
      "execution_count": 13,
      "id": "3ff4e61d",
      "metadata": {
        "id": "3ff4e61d",
        "colab": {
          "base_uri": "https://localhost:8080/",
          "height": 300
        },
        "outputId": "9a03df73-f840-4ffb-f339-bfba236083bc"
      },
      "outputs": [
        {
          "output_type": "execute_result",
          "data": {
            "text/plain": [
              "              price         year            kms\n",
              "count  5.200000e+01    52.000000      52.000000\n",
              "mean   1.081321e+08  2021.403846   22559.634615\n",
              "std    5.602188e+07     3.593347  138616.430757\n",
              "min    1.690000e+07  2011.000000       0.000000\n",
              "25%    7.500000e+07  2019.000000       0.000000\n",
              "50%    8.807000e+07  2023.000000     180.000000\n",
              "75%    1.340250e+08  2024.000000     782.500000\n",
              "max    2.826000e+08  2025.000000  999999.000000"
            ],
            "text/html": [
              "\n",
              "  <div id=\"df-0839504b-2646-4688-aaf0-a14e925693c8\" class=\"colab-df-container\">\n",
              "    <div>\n",
              "<style scoped>\n",
              "    .dataframe tbody tr th:only-of-type {\n",
              "        vertical-align: middle;\n",
              "    }\n",
              "\n",
              "    .dataframe tbody tr th {\n",
              "        vertical-align: top;\n",
              "    }\n",
              "\n",
              "    .dataframe thead th {\n",
              "        text-align: right;\n",
              "    }\n",
              "</style>\n",
              "<table border=\"1\" class=\"dataframe\">\n",
              "  <thead>\n",
              "    <tr style=\"text-align: right;\">\n",
              "      <th></th>\n",
              "      <th>price</th>\n",
              "      <th>year</th>\n",
              "      <th>kms</th>\n",
              "    </tr>\n",
              "  </thead>\n",
              "  <tbody>\n",
              "    <tr>\n",
              "      <th>count</th>\n",
              "      <td>5.200000e+01</td>\n",
              "      <td>52.000000</td>\n",
              "      <td>52.000000</td>\n",
              "    </tr>\n",
              "    <tr>\n",
              "      <th>mean</th>\n",
              "      <td>1.081321e+08</td>\n",
              "      <td>2021.403846</td>\n",
              "      <td>22559.634615</td>\n",
              "    </tr>\n",
              "    <tr>\n",
              "      <th>std</th>\n",
              "      <td>5.602188e+07</td>\n",
              "      <td>3.593347</td>\n",
              "      <td>138616.430757</td>\n",
              "    </tr>\n",
              "    <tr>\n",
              "      <th>min</th>\n",
              "      <td>1.690000e+07</td>\n",
              "      <td>2011.000000</td>\n",
              "      <td>0.000000</td>\n",
              "    </tr>\n",
              "    <tr>\n",
              "      <th>25%</th>\n",
              "      <td>7.500000e+07</td>\n",
              "      <td>2019.000000</td>\n",
              "      <td>0.000000</td>\n",
              "    </tr>\n",
              "    <tr>\n",
              "      <th>50%</th>\n",
              "      <td>8.807000e+07</td>\n",
              "      <td>2023.000000</td>\n",
              "      <td>180.000000</td>\n",
              "    </tr>\n",
              "    <tr>\n",
              "      <th>75%</th>\n",
              "      <td>1.340250e+08</td>\n",
              "      <td>2024.000000</td>\n",
              "      <td>782.500000</td>\n",
              "    </tr>\n",
              "    <tr>\n",
              "      <th>max</th>\n",
              "      <td>2.826000e+08</td>\n",
              "      <td>2025.000000</td>\n",
              "      <td>999999.000000</td>\n",
              "    </tr>\n",
              "  </tbody>\n",
              "</table>\n",
              "</div>\n",
              "    <div class=\"colab-df-buttons\">\n",
              "\n",
              "  <div class=\"colab-df-container\">\n",
              "    <button class=\"colab-df-convert\" onclick=\"convertToInteractive('df-0839504b-2646-4688-aaf0-a14e925693c8')\"\n",
              "            title=\"Convert this dataframe to an interactive table.\"\n",
              "            style=\"display:none;\">\n",
              "\n",
              "  <svg xmlns=\"http://www.w3.org/2000/svg\" height=\"24px\" viewBox=\"0 -960 960 960\">\n",
              "    <path d=\"M120-120v-720h720v720H120Zm60-500h600v-160H180v160Zm220 220h160v-160H400v160Zm0 220h160v-160H400v160ZM180-400h160v-160H180v160Zm440 0h160v-160H620v160ZM180-180h160v-160H180v160Zm440 0h160v-160H620v160Z\"/>\n",
              "  </svg>\n",
              "    </button>\n",
              "\n",
              "  <style>\n",
              "    .colab-df-container {\n",
              "      display:flex;\n",
              "      gap: 12px;\n",
              "    }\n",
              "\n",
              "    .colab-df-convert {\n",
              "      background-color: #E8F0FE;\n",
              "      border: none;\n",
              "      border-radius: 50%;\n",
              "      cursor: pointer;\n",
              "      display: none;\n",
              "      fill: #1967D2;\n",
              "      height: 32px;\n",
              "      padding: 0 0 0 0;\n",
              "      width: 32px;\n",
              "    }\n",
              "\n",
              "    .colab-df-convert:hover {\n",
              "      background-color: #E2EBFA;\n",
              "      box-shadow: 0px 1px 2px rgba(60, 64, 67, 0.3), 0px 1px 3px 1px rgba(60, 64, 67, 0.15);\n",
              "      fill: #174EA6;\n",
              "    }\n",
              "\n",
              "    .colab-df-buttons div {\n",
              "      margin-bottom: 4px;\n",
              "    }\n",
              "\n",
              "    [theme=dark] .colab-df-convert {\n",
              "      background-color: #3B4455;\n",
              "      fill: #D2E3FC;\n",
              "    }\n",
              "\n",
              "    [theme=dark] .colab-df-convert:hover {\n",
              "      background-color: #434B5C;\n",
              "      box-shadow: 0px 1px 3px 1px rgba(0, 0, 0, 0.15);\n",
              "      filter: drop-shadow(0px 1px 2px rgba(0, 0, 0, 0.3));\n",
              "      fill: #FFFFFF;\n",
              "    }\n",
              "  </style>\n",
              "\n",
              "    <script>\n",
              "      const buttonEl =\n",
              "        document.querySelector('#df-0839504b-2646-4688-aaf0-a14e925693c8 button.colab-df-convert');\n",
              "      buttonEl.style.display =\n",
              "        google.colab.kernel.accessAllowed ? 'block' : 'none';\n",
              "\n",
              "      async function convertToInteractive(key) {\n",
              "        const element = document.querySelector('#df-0839504b-2646-4688-aaf0-a14e925693c8');\n",
              "        const dataTable =\n",
              "          await google.colab.kernel.invokeFunction('convertToInteractive',\n",
              "                                                    [key], {});\n",
              "        if (!dataTable) return;\n",
              "\n",
              "        const docLinkHtml = 'Like what you see? Visit the ' +\n",
              "          '<a target=\"_blank\" href=https://colab.research.google.com/notebooks/data_table.ipynb>data table notebook</a>'\n",
              "          + ' to learn more about interactive tables.';\n",
              "        element.innerHTML = '';\n",
              "        dataTable['output_type'] = 'display_data';\n",
              "        await google.colab.output.renderOutput(dataTable, element);\n",
              "        const docLink = document.createElement('div');\n",
              "        docLink.innerHTML = docLinkHtml;\n",
              "        element.appendChild(docLink);\n",
              "      }\n",
              "    </script>\n",
              "  </div>\n",
              "\n",
              "\n",
              "<div id=\"df-bc1555c3-6443-4448-963f-1d85919aa962\">\n",
              "  <button class=\"colab-df-quickchart\" onclick=\"quickchart('df-bc1555c3-6443-4448-963f-1d85919aa962')\"\n",
              "            title=\"Suggest charts\"\n",
              "            style=\"display:none;\">\n",
              "\n",
              "<svg xmlns=\"http://www.w3.org/2000/svg\" height=\"24px\"viewBox=\"0 0 24 24\"\n",
              "     width=\"24px\">\n",
              "    <g>\n",
              "        <path d=\"M19 3H5c-1.1 0-2 .9-2 2v14c0 1.1.9 2 2 2h14c1.1 0 2-.9 2-2V5c0-1.1-.9-2-2-2zM9 17H7v-7h2v7zm4 0h-2V7h2v10zm4 0h-2v-4h2v4z\"/>\n",
              "    </g>\n",
              "</svg>\n",
              "  </button>\n",
              "\n",
              "<style>\n",
              "  .colab-df-quickchart {\n",
              "      --bg-color: #E8F0FE;\n",
              "      --fill-color: #1967D2;\n",
              "      --hover-bg-color: #E2EBFA;\n",
              "      --hover-fill-color: #174EA6;\n",
              "      --disabled-fill-color: #AAA;\n",
              "      --disabled-bg-color: #DDD;\n",
              "  }\n",
              "\n",
              "  [theme=dark] .colab-df-quickchart {\n",
              "      --bg-color: #3B4455;\n",
              "      --fill-color: #D2E3FC;\n",
              "      --hover-bg-color: #434B5C;\n",
              "      --hover-fill-color: #FFFFFF;\n",
              "      --disabled-bg-color: #3B4455;\n",
              "      --disabled-fill-color: #666;\n",
              "  }\n",
              "\n",
              "  .colab-df-quickchart {\n",
              "    background-color: var(--bg-color);\n",
              "    border: none;\n",
              "    border-radius: 50%;\n",
              "    cursor: pointer;\n",
              "    display: none;\n",
              "    fill: var(--fill-color);\n",
              "    height: 32px;\n",
              "    padding: 0;\n",
              "    width: 32px;\n",
              "  }\n",
              "\n",
              "  .colab-df-quickchart:hover {\n",
              "    background-color: var(--hover-bg-color);\n",
              "    box-shadow: 0 1px 2px rgba(60, 64, 67, 0.3), 0 1px 3px 1px rgba(60, 64, 67, 0.15);\n",
              "    fill: var(--button-hover-fill-color);\n",
              "  }\n",
              "\n",
              "  .colab-df-quickchart-complete:disabled,\n",
              "  .colab-df-quickchart-complete:disabled:hover {\n",
              "    background-color: var(--disabled-bg-color);\n",
              "    fill: var(--disabled-fill-color);\n",
              "    box-shadow: none;\n",
              "  }\n",
              "\n",
              "  .colab-df-spinner {\n",
              "    border: 2px solid var(--fill-color);\n",
              "    border-color: transparent;\n",
              "    border-bottom-color: var(--fill-color);\n",
              "    animation:\n",
              "      spin 1s steps(1) infinite;\n",
              "  }\n",
              "\n",
              "  @keyframes spin {\n",
              "    0% {\n",
              "      border-color: transparent;\n",
              "      border-bottom-color: var(--fill-color);\n",
              "      border-left-color: var(--fill-color);\n",
              "    }\n",
              "    20% {\n",
              "      border-color: transparent;\n",
              "      border-left-color: var(--fill-color);\n",
              "      border-top-color: var(--fill-color);\n",
              "    }\n",
              "    30% {\n",
              "      border-color: transparent;\n",
              "      border-left-color: var(--fill-color);\n",
              "      border-top-color: var(--fill-color);\n",
              "      border-right-color: var(--fill-color);\n",
              "    }\n",
              "    40% {\n",
              "      border-color: transparent;\n",
              "      border-right-color: var(--fill-color);\n",
              "      border-top-color: var(--fill-color);\n",
              "    }\n",
              "    60% {\n",
              "      border-color: transparent;\n",
              "      border-right-color: var(--fill-color);\n",
              "    }\n",
              "    80% {\n",
              "      border-color: transparent;\n",
              "      border-right-color: var(--fill-color);\n",
              "      border-bottom-color: var(--fill-color);\n",
              "    }\n",
              "    90% {\n",
              "      border-color: transparent;\n",
              "      border-bottom-color: var(--fill-color);\n",
              "    }\n",
              "  }\n",
              "</style>\n",
              "\n",
              "  <script>\n",
              "    async function quickchart(key) {\n",
              "      const quickchartButtonEl =\n",
              "        document.querySelector('#' + key + ' button');\n",
              "      quickchartButtonEl.disabled = true;  // To prevent multiple clicks.\n",
              "      quickchartButtonEl.classList.add('colab-df-spinner');\n",
              "      try {\n",
              "        const charts = await google.colab.kernel.invokeFunction(\n",
              "            'suggestCharts', [key], {});\n",
              "      } catch (error) {\n",
              "        console.error('Error during call to suggestCharts:', error);\n",
              "      }\n",
              "      quickchartButtonEl.classList.remove('colab-df-spinner');\n",
              "      quickchartButtonEl.classList.add('colab-df-quickchart-complete');\n",
              "    }\n",
              "    (() => {\n",
              "      let quickchartButtonEl =\n",
              "        document.querySelector('#df-bc1555c3-6443-4448-963f-1d85919aa962 button');\n",
              "      quickchartButtonEl.style.display =\n",
              "        google.colab.kernel.accessAllowed ? 'block' : 'none';\n",
              "    })();\n",
              "  </script>\n",
              "</div>\n",
              "\n",
              "    </div>\n",
              "  </div>\n"
            ],
            "application/vnd.google.colaboratory.intrinsic+json": {
              "type": "dataframe",
              "summary": "{\n  \"name\": \"datacc\",\n  \"rows\": 8,\n  \"fields\": [\n    {\n      \"column\": \"price\",\n      \"properties\": {\n        \"dtype\": \"number\",\n        \"std\": 87815563.33776976,\n        \"min\": 52.0,\n        \"max\": 282600000.0,\n        \"num_unique_values\": 8,\n        \"samples\": [\n          108132115.38461539,\n          88070000.0,\n          52.0\n        ],\n        \"semantic_type\": \"\",\n        \"description\": \"\"\n      }\n    },\n    {\n      \"column\": \"year\",\n      \"properties\": {\n        \"dtype\": \"number\",\n        \"std\": 922.574491216611,\n        \"min\": 3.5933468771868995,\n        \"max\": 2025.0,\n        \"num_unique_values\": 8,\n        \"samples\": [\n          2021.4038461538462,\n          2023.0,\n          52.0\n        ],\n        \"semantic_type\": \"\",\n        \"description\": \"\"\n      }\n    },\n    {\n      \"column\": \"kms\",\n      \"properties\": {\n        \"dtype\": \"number\",\n        \"std\": 348647.6990087126,\n        \"min\": 0.0,\n        \"max\": 999999.0,\n        \"num_unique_values\": 7,\n        \"samples\": [\n          52.0,\n          22559.634615384617,\n          782.5\n        ],\n        \"semantic_type\": \"\",\n        \"description\": \"\"\n      }\n    }\n  ]\n}"
            }
          },
          "metadata": {},
          "execution_count": 13
        }
      ],
      "source": [
        "# Descriptive statistics\n",
        "datacc.describe()[['price','year','kms']]"
      ]
    },
    {
      "cell_type": "markdown",
      "id": "c964a2f1",
      "metadata": {
        "id": "c964a2f1"
      },
      "source": [
        "#### Histograms"
      ]
    },
    {
      "cell_type": "code",
      "execution_count": 14,
      "id": "f00a9d42",
      "metadata": {
        "id": "f00a9d42",
        "colab": {
          "base_uri": "https://localhost:8080/",
          "height": 619
        },
        "outputId": "23d9c78e-71f3-4ee5-f875-316ca6ad9504"
      },
      "outputs": [
        {
          "output_type": "execute_result",
          "data": {
            "text/plain": [
              "Text(0.5, 1.0, '$kms$')"
            ]
          },
          "metadata": {},
          "execution_count": 14
        },
        {
          "output_type": "display_data",
          "data": {
            "text/plain": [
              "<Figure size 1500x600 with 3 Axes>"
            ],
            "image/png": "[encoded data removed]"
          },
          "metadata": {}
        }
      ],
      "source": [
        "# Histograms\n",
        "fig, (ax1, ax2, ax3) = plt.subplots(1, 3, figsize=(15,6))\n",
        "fig.suptitle('Histograms for some variables')\n",
        "sns.histplot(datacc['price'], ax=ax1)\n",
        "ax1.set_title('$Price$')\n",
        "sns.histplot(datacc['year'], ax=ax2)\n",
        "ax2.set_title('$Year$')\n",
        "sns.histplot(datacc['kms'], ax=ax3)\n",
        "ax3.set_title('$kms$')"
      ]
    },
    {
      "cell_type": "markdown",
      "source": [
        "En el histrograma, podemos ver la siguiente información acerca de las variables: Precio, Año y Kilómetros (Kms).\n",
        "\n",
        "Precio: El histograma muestra una tendencia en la que los precios más bajos son más frecuentes. Esto indica que hay más elementos (probablemente vehículos) con precios bajos en el conjunto de datos. La escala del eje x sugiere que los precios están en alguna unidad multiplicada por 108\n",
        "\n",
        "Año: Este histograma muestra la distribución de los años. Hay picos notables en ciertos años, lo que sugiere que esos años tienen más ocurrencias dentro del conjunto de datos. Esto podría indicar los años en los que se vendieron o fabricaron más vehículos.\n",
        "\n",
        "Kilómetros (Kms): Este histograma muestra que los vehículos con menor kilometraje son más frecuentes en el conjunto de datos. La escala del eje x sugiere que la distancia recorrida está en kilómetros multiplicada por 106"
      ],
      "metadata": {
        "id": "kq9kGxUEtLEn"
      },
      "id": "kq9kGxUEtLEn"
    },
    {
      "cell_type": "markdown",
      "id": "30509a3e",
      "metadata": {
        "id": "30509a3e"
      },
      "source": [
        "#### Boxplots"
      ]
    },
    {
      "cell_type": "code",
      "execution_count": 15,
      "id": "8c26fc4d",
      "metadata": {
        "id": "8c26fc4d",
        "colab": {
          "base_uri": "https://localhost:8080/",
          "height": 469
        },
        "outputId": "6ff94f07-4ea4-4e75-a7a6-3b8d07758aac"
      },
      "outputs": [
        {
          "output_type": "execute_result",
          "data": {
            "text/plain": [
              "<Axes: >"
            ]
          },
          "metadata": {},
          "execution_count": 15
        },
        {
          "output_type": "display_data",
          "data": {
            "text/plain": [
              "<Figure size 1500x450 with 3 Axes>"
            ],
            "image/png": "[encoded data removed]"
          },
          "metadata": {}
        }
      ],
      "source": [
        "### Boxplot\n",
        "fig, (ax1, ax2, ax3) = plt.subplots(1, 3, figsize=(15,4.5))\n",
        "fig.suptitle('Boxplots for some variables')\n",
        "sns.boxplot(data=datacc[['price']], ax=ax1)\n",
        "sns.boxplot(data=datacc[['year']], ax=ax2)\n",
        "sns.boxplot(data=datacc[['kms']], ax=ax3)"
      ]
    },
    {
      "cell_type": "code",
      "source": [
        "from google.colab import drive\n",
        "drive.mount('/content/drive')"
      ],
      "metadata": {
        "id": "oKe1bt-sVuQx",
        "colab": {
          "base_uri": "https://localhost:8080/"
        },
        "outputId": "e9cd06d9-d12c-4f53-b3da-1020ff1003f9",
        "collapsed": true
      },
      "id": "oKe1bt-sVuQx",
      "execution_count": 16,
      "outputs": [
        {
          "output_type": "stream",
          "name": "stdout",
          "text": [
            "Mounted at /content/drive\n"
          ]
        }
      ]
    },
    {
      "cell_type": "markdown",
      "id": "7c1de9a6",
      "metadata": {
        "id": "7c1de9a6"
      },
      "source": [
        "#### Ouliers treatment\n",
        "_https://www.statology.org/remove-outliers-python/_  \n",
        "_https://towardsdatascience.com/a-complete-guide-for-detecting-and-dealing-with-outliers-bad26b1e92b6_  \n",
        "_https://www.scribbr.com/statistics/outliers/_  \n",
        "_https://www.statology.org/remove-outliers/_  "
      ]
    },
    {
      "cell_type": "code",
      "execution_count": 17,
      "id": "118fe4b4",
      "metadata": {
        "id": "118fe4b4",
        "colab": {
          "base_uri": "https://localhost:8080/",
          "height": 469
        },
        "outputId": "72ba9caa-971a-4d6f-fa51-29b6c9fdcb21"
      },
      "outputs": [
        {
          "output_type": "execute_result",
          "data": {
            "text/plain": [
              "<Axes: >"
            ]
          },
          "metadata": {},
          "execution_count": 17
        },
        {
          "output_type": "display_data",
          "data": {
            "text/plain": [
              "<Figure size 1500x450 with 3 Axes>"
            ],
            "image/png": "[encoded data removed]"
          },
          "metadata": {}
        }
      ],
      "source": [
        "# Z score to eliminate outliers of 'year' and 'kms'\n",
        "from scipy import stats\n",
        "\n",
        "#find absolute value of z-score for each observation of 'kms'\n",
        "z2 = np.abs(stats.zscore(datacc['kms']))\n",
        "\n",
        "#only keep rows in dataframe with all z-scores less than absolute value of 3\n",
        "toremove = datacc.kms[(z2>2)].index\n",
        "datacc = datacc.drop(toremove)\n",
        "\n",
        "fig, (ax1, ax2, ax3) = plt.subplots(1, 3, figsize=(15,4.5))\n",
        "fig.suptitle('Boxplots for some variables')\n",
        "sns.boxplot(data=datacc[['price']], ax=ax1)\n",
        "sns.boxplot(data=datacc[['year']], ax=ax2)\n",
        "sns.boxplot(data=datacc[['kms']], ax=ax3)"
      ]
    },
    {
      "cell_type": "code",
      "source": [
        "# Histograms\n",
        "fig, (ax1, ax2, ax3) = plt.subplots(1, 3, figsize=(15,6))\n",
        "fig.suptitle('Histograms for some variables')\n",
        "sns.histplot(datacc['price'], ax=ax1)\n",
        "ax1.set_title('$Price$')\n",
        "sns.histplot(datacc['year'], ax=ax2)\n",
        "ax2.set_title('$Year$')\n",
        "sns.histplot(datacc['kms'], ax=ax3)\n",
        "ax3.set_title('$kms$')"
      ],
      "metadata": {
        "id": "HhIWoCmEqgap",
        "colab": {
          "base_uri": "https://localhost:8080/",
          "height": 619
        },
        "outputId": "495e91cb-3acc-4cc5-d41f-1f4bc2aefce2"
      },
      "id": "HhIWoCmEqgap",
      "execution_count": 18,
      "outputs": [
        {
          "output_type": "execute_result",
          "data": {
            "text/plain": [
              "Text(0.5, 1.0, '$kms$')"
            ]
          },
          "metadata": {},
          "execution_count": 18
        },
        {
          "output_type": "display_data",
          "data": {
            "text/plain": [
              "<Figure size 1500x600 with 3 Axes>"
            ],
            "image/png": "[encoded data removed]"
          },
          "metadata": {}
        }
      ]
    },
    {
      "cell_type": "markdown",
      "id": "a2190f9b",
      "metadata": {
        "id": "a2190f9b"
      },
      "source": [
        "### EDA (Exploratory Data Analysis)"
      ]
    },
    {
      "cell_type": "markdown",
      "id": "cf139630",
      "metadata": {
        "id": "cf139630"
      },
      "source": [
        "#### Correlations"
      ]
    },
    {
      "cell_type": "code",
      "execution_count": 20,
      "id": "8c0f031a",
      "metadata": {
        "id": "8c0f031a",
        "colab": {
          "base_uri": "https://localhost:8080/",
          "height": 1000
        },
        "outputId": "85ac55d1-30db-429d-e300-acd5492904a1"
      },
      "outputs": [
        {
          "output_type": "display_data",
          "data": {
            "text/plain": [
              "<Figure size 1500x1500 with 2 Axes>"
            ],
            "image/png": "[encoded data removed]"
          },
          "metadata": {}
        }
      ],
      "source": [
        "def correlation_heatmap(train):\n",
        "    correlations = train.corr()\n",
        "\n",
        "    fig, ax = plt.subplots(figsize=(15,15))\n",
        "    sns.heatmap(correlations, vmax=1.0, center=0, fmt='.2f', cmap=\"YlGnBu\",\n",
        "                square=True, linewidths=.2, annot=False, cbar_kws={\"shrink\": .95}\n",
        "                )\n",
        "    plt.show();\n",
        "\n",
        "# Definimos X como el subconjunto de 'data' que contiene las columnas 'year' y 'kms'\n",
        "X = data[['year', 'kms']]\n",
        "\n",
        "# Ahora puedes llamar a tu función\n",
        "correlation_heatmap(X)"
      ]
    },
    {
      "cell_type": "code",
      "execution_count": 21,
      "id": "6e23955d",
      "metadata": {
        "id": "6e23955d",
        "colab": {
          "base_uri": "https://localhost:8080/",
          "height": 524
        },
        "outputId": "5dbf223f-5ef0-4346-ede3-52d9985cc680"
      },
      "outputs": [
        {
          "output_type": "execute_result",
          "data": {
            "text/plain": [
              "<seaborn.axisgrid.PairGrid at 0x799530f71b10>"
            ]
          },
          "metadata": {},
          "execution_count": 21
        },
        {
          "output_type": "display_data",
          "data": {
            "text/plain": [
              "<Figure size 500x500 with 4 Axes>"
            ],
            "image/png": "[encoded data removed]"
          },
          "metadata": {}
        }
      ],
      "source": [
        "g = sns.PairGrid(X[['year', 'kms']])\n",
        "g.map(sns.scatterplot)"
      ]
    },
    {
      "cell_type": "markdown",
      "id": "b328b436",
      "metadata": {
        "id": "b328b436"
      },
      "source": [
        "## Modeling: machine learning"
      ]
    },
    {
      "cell_type": "markdown",
      "id": "c0cac588",
      "metadata": {
        "id": "c0cac588"
      },
      "source": [
        "### Libraries"
      ]
    },
    {
      "cell_type": "markdown",
      "source": [],
      "metadata": {
        "id": "v0VQ36eOxSeD"
      },
      "id": "v0VQ36eOxSeD"
    },
    {
      "cell_type": "code",
      "execution_count": 22,
      "id": "e42a7a9f",
      "metadata": {
        "id": "e42a7a9f"
      },
      "outputs": [],
      "source": [
        "from sklearn.preprocessing import StandardScaler\n",
        "from sklearn.model_selection import train_test_split as split\n",
        "from sklearn.linear_model import LinearRegression\n",
        "from sklearn.metrics import mean_squared_error as MSE, r2_score\n",
        "from sklearn.metrics import mean_absolute_error as MAE\n",
        "import pickle"
      ]
    },
    {
      "cell_type": "markdown",
      "id": "cf09ba88",
      "metadata": {
        "id": "cf09ba88"
      },
      "source": [
        "### Data partitioning\n"
      ]
    },
    {
      "cell_type": "code",
      "execution_count": 23,
      "id": "0ce7274b",
      "metadata": {
        "id": "0ce7274b",
        "colab": {
          "base_uri": "https://localhost:8080/"
        },
        "outputId": "b06268a8-79f1-4cc6-b386-87eaa1637ff5"
      },
      "outputs": [
        {
          "output_type": "stream",
          "name": "stdout",
          "text": [
            "(51, 4)\n",
            "(51,)\n"
          ]
        }
      ],
      "source": [
        "X = datacc.copy()\n",
        "X = X.drop(['price'], axis=1)\n",
        "print(X.shape)\n",
        "\n",
        "Y = pd.DataFrame()\n",
        "Y = datacc['price']\n",
        "print(Y.shape)"
      ]
    },
    {
      "cell_type": "code",
      "execution_count": 24,
      "id": "d1c218b0",
      "metadata": {
        "id": "d1c218b0",
        "colab": {
          "base_uri": "https://localhost:8080/"
        },
        "outputId": "d5afddad-5dd3-4193-a718-c66894262b2d"
      },
      "outputs": [
        {
          "output_type": "execute_result",
          "data": {
            "text/plain": [
              "(51, 4)"
            ]
          },
          "metadata": {},
          "execution_count": 24
        }
      ],
      "source": [
        "# Data set normalization and partitioning\n",
        "sc = StandardScaler()\n",
        "Xsc = sc.fit(X)\n",
        "Xt = Xsc.transform(X)\n",
        "Xt.shape"
      ]
    },
    {
      "cell_type": "code",
      "execution_count": 25,
      "id": "b4a2dcc8",
      "metadata": {
        "id": "b4a2dcc8"
      },
      "outputs": [],
      "source": [
        "X_train, X_test, y_train, y_test = split(Xt,Y,\n",
        "                                         test_size=0.20,\n",
        "                                         random_state=42)"
      ]
    },
    {
      "cell_type": "markdown",
      "id": "a75c11f1",
      "metadata": {
        "id": "a75c11f1"
      },
      "source": [
        "### Multivariate lineal regression"
      ]
    },
    {
      "cell_type": "code",
      "execution_count": 26,
      "id": "68141262",
      "metadata": {
        "id": "68141262"
      },
      "outputs": [],
      "source": [
        "# Define model and prediction\n",
        "ols = LinearRegression()\n",
        "model1 = ols.fit(X_train, y_train)\n",
        "y_pred1 = model1.predict(X_test)"
      ]
    },
    {
      "cell_type": "code",
      "execution_count": 28,
      "id": "29763683",
      "metadata": {
        "id": "29763683",
        "colab": {
          "base_uri": "https://localhost:8080/"
        },
        "outputId": "a924aab5-354a-4805-8ed5-33d153c8f702"
      },
      "outputs": [
        {
          "output_type": "stream",
          "name": "stdout",
          "text": [
            "RMSE: 54540239.70\n",
            "MAE: 40189490.00\n",
            "R2: 0.19\n"
          ]
        }
      ],
      "source": [
        "# accuracy check\n",
        "rmse = MSE(y_test, y_pred1, squared=False)\n",
        "mae = MAE(y_test, y_pred1)\n",
        "r2 = r2_score(y_test, y_pred1)\n",
        "print(\"RMSE: %.2f\" % rmse)\n",
        "print(\"MAE: %.2f\" % mae)\n",
        "print(\"R2: %.2f\" % r2)"
      ]
    },
    {
      "cell_type": "markdown",
      "id": "b98a2822",
      "metadata": {
        "id": "b98a2822"
      },
      "source": [
        "### Light GBM\n",
        "https://www.analyticsvidhya.com/blog/2021/08/complete-guide-on-how-to-use-lightgbm-in-python/   \n",
        "https://www.datatechnotes.com/2022/03/lightgbm-regression-example-in-python.html  "
      ]
    },
    {
      "cell_type": "code",
      "execution_count": 29,
      "id": "9ae5d7a5",
      "metadata": {
        "id": "9ae5d7a5",
        "colab": {
          "base_uri": "https://localhost:8080/"
        },
        "outputId": "587efc87-b379-480e-f291-de7d0fec5da9"
      },
      "outputs": [
        {
          "output_type": "stream",
          "name": "stdout",
          "text": [
            "Requirement already satisfied: lightgbm in /usr/local/lib/python3.10/dist-packages (4.1.0)\n",
            "Requirement already satisfied: numpy in /usr/local/lib/python3.10/dist-packages (from lightgbm) (1.25.2)\n",
            "Requirement already satisfied: scipy in /usr/local/lib/python3.10/dist-packages (from lightgbm) (1.11.4)\n"
          ]
        }
      ],
      "source": [
        "!pip install lightgbm"
      ]
    },
    {
      "cell_type": "code",
      "execution_count": 30,
      "id": "8cc798fa",
      "metadata": {
        "id": "8cc798fa"
      },
      "outputs": [],
      "source": [
        "import lightgbm as lgb"
      ]
    },
    {
      "cell_type": "code",
      "execution_count": 31,
      "id": "8742c9fb",
      "metadata": {
        "id": "8742c9fb",
        "colab": {
          "base_uri": "https://localhost:8080/"
        },
        "outputId": "4671b49a-0799-4284-e850-3bca0ba1e5c4"
      },
      "outputs": [
        {
          "output_type": "stream",
          "name": "stdout",
          "text": [
            "[LightGBM] [Warning] No further splits with positive gain, best gain: -inf\n",
            "[LightGBM] [Warning] No further splits with positive gain, best gain: -inf\n",
            "[LightGBM] [Warning] No further splits with positive gain, best gain: -inf\n",
            "[LightGBM] [Warning] No further splits with positive gain, best gain: -inf\n",
            "[LightGBM] [Warning] No further splits with positive gain, best gain: -inf\n",
            "[LightGBM] [Warning] No further splits with positive gain, best gain: -inf\n",
            "[LightGBM] [Warning] No further splits with positive gain, best gain: -inf\n",
            "[LightGBM] [Warning] No further splits with positive gain, best gain: -inf\n",
            "[LightGBM] [Warning] No further splits with positive gain, best gain: -inf\n",
            "[LightGBM] [Warning] No further splits with positive gain, best gain: -inf\n",
            "[LightGBM] [Warning] No further splits with positive gain, best gain: -inf\n",
            "[LightGBM] [Warning] No further splits with positive gain, best gain: -inf\n",
            "[LightGBM] [Warning] No further splits with positive gain, best gain: -inf\n",
            "[LightGBM] [Warning] No further splits with positive gain, best gain: -inf\n",
            "[LightGBM] [Warning] No further splits with positive gain, best gain: -inf\n",
            "[LightGBM] [Warning] No further splits with positive gain, best gain: -inf\n",
            "[LightGBM] [Warning] No further splits with positive gain, best gain: -inf\n",
            "[LightGBM] [Warning] No further splits with positive gain, best gain: -inf\n",
            "[LightGBM] [Warning] No further splits with positive gain, best gain: -inf\n",
            "[LightGBM] [Warning] No further splits with positive gain, best gain: -inf\n",
            "[LightGBM] [Warning] No further splits with positive gain, best gain: -inf\n",
            "[LightGBM] [Warning] No further splits with positive gain, best gain: -inf\n",
            "[LightGBM] [Warning] No further splits with positive gain, best gain: -inf\n",
            "[LightGBM] [Warning] No further splits with positive gain, best gain: -inf\n",
            "[LightGBM] [Warning] No further splits with positive gain, best gain: -inf\n",
            "[LightGBM] [Warning] No further splits with positive gain, best gain: -inf\n",
            "[LightGBM] [Warning] No further splits with positive gain, best gain: -inf\n",
            "[LightGBM] [Warning] No further splits with positive gain, best gain: -inf\n",
            "[LightGBM] [Warning] No further splits with positive gain, best gain: -inf\n",
            "[LightGBM] [Warning] No further splits with positive gain, best gain: -inf\n",
            "[LightGBM] [Warning] No further splits with positive gain, best gain: -inf\n",
            "[LightGBM] [Warning] No further splits with positive gain, best gain: -inf\n",
            "[LightGBM] [Warning] No further splits with positive gain, best gain: -inf\n",
            "[LightGBM] [Warning] No further splits with positive gain, best gain: -inf\n",
            "[LightGBM] [Warning] No further splits with positive gain, best gain: -inf\n",
            "[LightGBM] [Warning] No further splits with positive gain, best gain: -inf\n",
            "[LightGBM] [Warning] No further splits with positive gain, best gain: -inf\n",
            "[LightGBM] [Warning] No further splits with positive gain, best gain: -inf\n",
            "[LightGBM] [Warning] No further splits with positive gain, best gain: -inf\n",
            "[LightGBM] [Warning] No further splits with positive gain, best gain: -inf\n",
            "[LightGBM] [Warning] No further splits with positive gain, best gain: -inf\n",
            "[LightGBM] [Warning] No further splits with positive gain, best gain: -inf\n",
            "[LightGBM] [Warning] No further splits with positive gain, best gain: -inf\n",
            "[LightGBM] [Warning] No further splits with positive gain, best gain: -inf\n",
            "[LightGBM] [Warning] No further splits with positive gain, best gain: -inf\n",
            "[LightGBM] [Warning] No further splits with positive gain, best gain: -inf\n",
            "[LightGBM] [Warning] No further splits with positive gain, best gain: -inf\n",
            "[LightGBM] [Warning] No further splits with positive gain, best gain: -inf\n",
            "[LightGBM] [Warning] No further splits with positive gain, best gain: -inf\n",
            "[LightGBM] [Warning] No further splits with positive gain, best gain: -inf\n",
            "[LightGBM] [Warning] No further splits with positive gain, best gain: -inf\n",
            "[LightGBM] [Warning] No further splits with positive gain, best gain: -inf\n",
            "[LightGBM] [Warning] No further splits with positive gain, best gain: -inf\n",
            "[LightGBM] [Warning] No further splits with positive gain, best gain: -inf\n",
            "[LightGBM] [Warning] No further splits with positive gain, best gain: -inf\n",
            "[LightGBM] [Warning] No further splits with positive gain, best gain: -inf\n",
            "[LightGBM] [Warning] No further splits with positive gain, best gain: -inf\n",
            "[LightGBM] [Warning] No further splits with positive gain, best gain: -inf\n",
            "[LightGBM] [Warning] No further splits with positive gain, best gain: -inf\n",
            "[LightGBM] [Warning] No further splits with positive gain, best gain: -inf\n",
            "[LightGBM] [Warning] No further splits with positive gain, best gain: -inf\n",
            "[LightGBM] [Warning] No further splits with positive gain, best gain: -inf\n",
            "[LightGBM] [Warning] No further splits with positive gain, best gain: -inf\n",
            "[LightGBM] [Warning] No further splits with positive gain, best gain: -inf\n",
            "[LightGBM] [Warning] No further splits with positive gain, best gain: -inf\n",
            "[LightGBM] [Warning] No further splits with positive gain, best gain: -inf\n",
            "[LightGBM] [Warning] No further splits with positive gain, best gain: -inf\n",
            "[LightGBM] [Warning] No further splits with positive gain, best gain: -inf\n",
            "[LightGBM] [Warning] No further splits with positive gain, best gain: -inf\n",
            "[LightGBM] [Warning] No further splits with positive gain, best gain: -inf\n",
            "[LightGBM] [Warning] No further splits with positive gain, best gain: -inf\n",
            "[LightGBM] [Warning] No further splits with positive gain, best gain: -inf\n",
            "[LightGBM] [Warning] No further splits with positive gain, best gain: -inf\n",
            "[LightGBM] [Warning] No further splits with positive gain, best gain: -inf\n",
            "[LightGBM] [Warning] No further splits with positive gain, best gain: -inf\n",
            "[LightGBM] [Warning] No further splits with positive gain, best gain: -inf\n",
            "[LightGBM] [Warning] No further splits with positive gain, best gain: -inf\n",
            "[LightGBM] [Warning] No further splits with positive gain, best gain: -inf\n",
            "[LightGBM] [Warning] No further splits with positive gain, best gain: -inf\n",
            "[LightGBM] [Warning] No further splits with positive gain, best gain: -inf\n",
            "[LightGBM] [Warning] No further splits with positive gain, best gain: -inf\n",
            "[LightGBM] [Warning] No further splits with positive gain, best gain: -inf\n",
            "[LightGBM] [Warning] No further splits with positive gain, best gain: -inf\n",
            "[LightGBM] [Warning] No further splits with positive gain, best gain: -inf\n",
            "[LightGBM] [Warning] No further splits with positive gain, best gain: -inf\n",
            "[LightGBM] [Warning] No further splits with positive gain, best gain: -inf\n",
            "[LightGBM] [Warning] No further splits with positive gain, best gain: -inf\n",
            "[LightGBM] [Warning] No further splits with positive gain, best gain: -inf\n",
            "[LightGBM] [Warning] No further splits with positive gain, best gain: -inf\n",
            "[LightGBM] [Warning] No further splits with positive gain, best gain: -inf\n",
            "[LightGBM] [Warning] No further splits with positive gain, best gain: -inf\n",
            "[LightGBM] [Warning] No further splits with positive gain, best gain: -inf\n",
            "[LightGBM] [Warning] No further splits with positive gain, best gain: -inf\n",
            "[LightGBM] [Warning] No further splits with positive gain, best gain: -inf\n",
            "[LightGBM] [Warning] No further splits with positive gain, best gain: -inf\n",
            "[LightGBM] [Warning] No further splits with positive gain, best gain: -inf\n",
            "[LightGBM] [Warning] No further splits with positive gain, best gain: -inf\n",
            "[LightGBM] [Warning] No further splits with positive gain, best gain: -inf\n",
            "[LightGBM] [Warning] No further splits with positive gain, best gain: -inf\n",
            "[LightGBM] [Warning] No further splits with positive gain, best gain: -inf\n"
          ]
        }
      ],
      "source": [
        "# Hyperparameters\n",
        "params = {\n",
        "    'task': 'train',\n",
        "    'boosting': 'gbdt',\n",
        "    'objective': 'regression',\n",
        "    'num_leaves': 10,\n",
        "    'learning_rate': 0.05,\n",
        "    'metric': {'l2','l1'},\n",
        "    'header' : 'true',\n",
        "    'verbose': 0\n",
        "}\n",
        "\n",
        "# laoding data\n",
        "lgb_train = lgb.Dataset(X_train, y_train)\n",
        "lgb_eval = lgb.Dataset(X_test, y_test, reference=lgb_train)\n",
        "\n",
        "# fitting the model\n",
        "model2 = lgb.train(params,\n",
        "                 train_set=lgb_train,\n",
        "                 valid_sets=lgb_eval)\n",
        "# Pred\n",
        "y_pred2 = model2.predict(X_test)"
      ]
    },
    {
      "cell_type": "code",
      "execution_count": 32,
      "id": "future-recruitment",
      "metadata": {
        "id": "future-recruitment",
        "colab": {
          "base_uri": "https://localhost:8080/"
        },
        "outputId": "4b31ef25-6100-4cee-87a1-3b1b362c4348"
      },
      "outputs": [
        {
          "output_type": "stream",
          "name": "stdout",
          "text": [
            "RMSE: 51233954.19\n",
            "MAE: 33982890.29\n",
            "R2: 0.29\n"
          ]
        }
      ],
      "source": [
        "# accuracy check\n",
        "rmse = MSE(y_test, y_pred2, squared=False)\n",
        "mae = MAE(y_test, y_pred2)\n",
        "r2 = r2_score(y_test, y_pred2)\n",
        "print(\"RMSE: %.2f\" % rmse)\n",
        "print(\"MAE: %.2f\" % mae)\n",
        "print(\"R2: %.2f\" % r2)"
      ]
    },
    {
      "cell_type": "code",
      "execution_count": 33,
      "id": "35d67d4f",
      "metadata": {
        "id": "35d67d4f",
        "colab": {
          "base_uri": "https://localhost:8080/",
          "height": 564
        },
        "outputId": "8a257fba-aac4-4d44-fd2a-7ac695f92f3f"
      },
      "outputs": [
        {
          "output_type": "display_data",
          "data": {
            "text/plain": [
              "<Figure size 1200x600 with 1 Axes>"
            ],
            "image/png": "[encoded data removed]"
          },
          "metadata": {}
        }
      ],
      "source": [
        "# visualizing in a plot\n",
        "x_ax = range(len(y_test))\n",
        "plt.figure(figsize=(12, 6))\n",
        "plt.plot(x_ax, y_test, label=\"original\")\n",
        "plt.plot(x_ax, y_pred2, label=\"predicted\")\n",
        "plt.title(\"Original and predicted car prices\")\n",
        "plt.xlabel('X')\n",
        "plt.ylabel('Price')\n",
        "plt.legend(loc='best', fancybox=True, shadow=True)\n",
        "plt.grid(True)\n",
        "plt.show()"
      ]
    },
    {
      "cell_type": "code",
      "execution_count": 34,
      "id": "6a4ef815",
      "metadata": {
        "id": "6a4ef815",
        "colab": {
          "base_uri": "https://localhost:8080/",
          "height": 472
        },
        "outputId": "38de3199-e512-47b5-e523-561f36a1cf5f"
      },
      "outputs": [
        {
          "output_type": "display_data",
          "data": {
            "text/plain": [
              "<Figure size 640x480 with 1 Axes>"
            ],
            "image/png": "[encoded data removed]"
          },
          "metadata": {}
        }
      ],
      "source": [
        "# plotting feature importance\n",
        "ax = lgb.plot_importance(model2, height=.5, title=\"LightGBM Feature Importance\")\n"
      ]
    },
    {
      "cell_type": "code",
      "execution_count": 35,
      "id": "cd3c6abe",
      "metadata": {
        "id": "cd3c6abe",
        "colab": {
          "base_uri": "https://localhost:8080/",
          "height": 396
        },
        "outputId": "75120f5c-ab09-4292-a63f-ab14203314e8"
      },
      "outputs": [
        {
          "output_type": "execute_result",
          "data": {
            "text/plain": [
              "<Axes: >"
            ]
          },
          "metadata": {},
          "execution_count": 35
        },
        {
          "output_type": "display_data",
          "data": {
            "text/plain": [
              "<Figure size 3000x4000 with 1 Axes>"
            ],
            "image/png": "[encoded data removed]"
          },
          "metadata": {}
        }
      ],
      "source": [
        "lgb.plot_tree(model2,figsize=(30,40))"
      ]
    },
    {
      "cell_type": "markdown",
      "id": "9bf1253e",
      "metadata": {
        "id": "9bf1253e"
      },
      "source": [
        "### Random Forest Regressor"
      ]
    },
    {
      "cell_type": "code",
      "execution_count": 36,
      "id": "2aedaac1",
      "metadata": {
        "id": "2aedaac1"
      },
      "outputs": [],
      "source": [
        "from sklearn.ensemble import RandomForestRegressor"
      ]
    },
    {
      "cell_type": "code",
      "execution_count": 37,
      "id": "0adbba9f",
      "metadata": {
        "id": "0adbba9f"
      },
      "outputs": [],
      "source": [
        "model3 = RandomForestRegressor()\n",
        "model3.fit(X_train, y_train)\n",
        "y_pred3 = model3.predict(X_test)"
      ]
    },
    {
      "cell_type": "code",
      "execution_count": 38,
      "id": "sunset-killer",
      "metadata": {
        "id": "sunset-killer",
        "colab": {
          "base_uri": "https://localhost:8080/"
        },
        "outputId": "bb08e2c8-1a0d-4df5-e999-5b50f1b3bfdb"
      },
      "outputs": [
        {
          "output_type": "stream",
          "name": "stdout",
          "text": [
            "RMSE: 50285436.50\n",
            "MAE: 37641769.37\n",
            "R2: 0.31\n"
          ]
        }
      ],
      "source": [
        "# accuracy check\n",
        "rmse = MSE(y_test, y_pred3, squared=False)\n",
        "mae = MAE(y_test, y_pred3)\n",
        "r2 = r2_score(y_test, y_pred3)\n",
        "print(\"RMSE: %.2f\" % rmse)\n",
        "print(\"MAE: %.2f\" % mae)\n",
        "print(\"R2: %.2f\" % r2)"
      ]
    },
    {
      "cell_type": "markdown",
      "source": [
        "**Save the model**"
      ],
      "metadata": {
        "id": "qx5ZKifXyIsI"
      },
      "id": "qx5ZKifXyIsI"
    },
    {
      "cell_type": "code",
      "source": [
        "with open('model3.pkl', 'wb') as f:\n",
        "  pickle.dump(model3, f)"
      ],
      "metadata": {
        "id": "N_LGgW4byL1H"
      },
      "id": "N_LGgW4byL1H",
      "execution_count": 39,
      "outputs": []
    },
    {
      "cell_type": "markdown",
      "id": "b10c4f5a",
      "metadata": {
        "id": "b10c4f5a"
      },
      "source": [
        "### Xgboost regressor\n",
        "https://www.datatechnotes.com/2019/06/regression-example-with-xgbregressor-in.html"
      ]
    },
    {
      "cell_type": "code",
      "execution_count": 40,
      "id": "457560d3",
      "metadata": {
        "id": "457560d3"
      },
      "outputs": [],
      "source": [
        "from sklearn.model_selection import cross_val_score, KFold\n",
        "import xgboost as xgb\n",
        "from sklearn.metrics import classification_report"
      ]
    },
    {
      "cell_type": "code",
      "execution_count": 41,
      "id": "c0212d2b",
      "metadata": {
        "id": "c0212d2b"
      },
      "outputs": [],
      "source": [
        "#Define model\n",
        "model4 = xgb.XGBRegressor(objective ='reg:squarederror',\n",
        "                          booster='gbtree',\n",
        "                          colsample_bytree = 1,\n",
        "                          importance_type='gain',\n",
        "                          learning_rate = 0.2,\n",
        "                          max_depth = 5,\n",
        "                          alpha = 5,\n",
        "                          n_estimators = 200,\n",
        "                          seed=123)"
      ]
    },
    {
      "cell_type": "code",
      "execution_count": 42,
      "id": "0b4086fc",
      "metadata": {
        "id": "0b4086fc",
        "colab": {
          "base_uri": "https://localhost:8080/",
          "height": 231
        },
        "outputId": "6718320a-391a-4c0b-9a2f-660d6fa031cc"
      },
      "outputs": [
        {
          "output_type": "execute_result",
          "data": {
            "text/plain": [
              "XGBRegressor(alpha=5, base_score=None, booster='gbtree', callbacks=None,\n",
              "             colsample_bylevel=None, colsample_bynode=None, colsample_bytree=1,\n",
              "             device=None, early_stopping_rounds=None, enable_categorical=False,\n",
              "             eval_metric=None, feature_types=None, gamma=None, grow_policy=None,\n",
              "             importance_type='gain', interaction_constraints=None,\n",
              "             learning_rate=0.2, max_bin=None, max_cat_threshold=None,\n",
              "             max_cat_to_onehot=None, max_delta_step=None, max_depth=5,\n",
              "             max_leaves=None, min_child_weight=None, missing=nan,\n",
              "             monotone_constraints=None, multi_strategy=None, n_estimators=200,\n",
              "             n_jobs=None, num_parallel_tree=None, ...)"
            ],
            "text/html": [
              "<style>#sk-container-id-1 {color: black;background-color: white;}#sk-container-id-1 pre{padding: 0;}#sk-container-id-1 div.sk-toggleable {background-color: white;}#sk-container-id-1 label.sk-toggleable__label {cursor: pointer;display: block;width: 100%;margin-bottom: 0;padding: 0.3em;box-sizing: border-box;text-align: center;}#sk-container-id-1 label.sk-toggleable__label-arrow:before {content: \"▸\";float: left;margin-right: 0.25em;color: #696969;}#sk-container-id-1 label.sk-toggleable__label-arrow:hover:before {color: black;}#sk-container-id-1 div.sk-estimator:hover label.sk-toggleable__label-arrow:before {color: black;}#sk-container-id-1 div.sk-toggleable__content {max-height: 0;max-width: 0;overflow: hidden;text-align: left;background-color: #f0f8ff;}#sk-container-id-1 div.sk-toggleable__content pre {margin: 0.2em;color: black;border-radius: 0.25em;background-color: #f0f8ff;}#sk-container-id-1 input.sk-toggleable__control:checked~div.sk-toggleable__content {max-height: 200px;max-width: 100%;overflow: auto;}#sk-container-id-1 input.sk-toggleable__control:checked~label.sk-toggleable__label-arrow:before {content: \"▾\";}#sk-container-id-1 div.sk-estimator input.sk-toggleable__control:checked~label.sk-toggleable__label {background-color: #d4ebff;}#sk-container-id-1 div.sk-label input.sk-toggleable__control:checked~label.sk-toggleable__label {background-color: #d4ebff;}#sk-container-id-1 input.sk-hidden--visually {border: 0;clip: rect(1px 1px 1px 1px);clip: rect(1px, 1px, 1px, 1px);height: 1px;margin: -1px;overflow: hidden;padding: 0;position: absolute;width: 1px;}#sk-container-id-1 div.sk-estimator {font-family: monospace;background-color: #f0f8ff;border: 1px dotted black;border-radius: 0.25em;box-sizing: border-box;margin-bottom: 0.5em;}#sk-container-id-1 div.sk-estimator:hover {background-color: #d4ebff;}#sk-container-id-1 div.sk-parallel-item::after {content: \"\";width: 100%;border-bottom: 1px solid gray;flex-grow: 1;}#sk-container-id-1 div.sk-label:hover label.sk-toggleable__label {background-color: #d4ebff;}#sk-container-id-1 div.sk-serial::before {content: \"\";position: absolute;border-left: 1px solid gray;box-sizing: border-box;top: 0;bottom: 0;left: 50%;z-index: 0;}#sk-container-id-1 div.sk-serial {display: flex;flex-direction: column;align-items: center;background-color: white;padding-right: 0.2em;padding-left: 0.2em;position: relative;}#sk-container-id-1 div.sk-item {position: relative;z-index: 1;}#sk-container-id-1 div.sk-parallel {display: flex;align-items: stretch;justify-content: center;background-color: white;position: relative;}#sk-container-id-1 div.sk-item::before, #sk-container-id-1 div.sk-parallel-item::before {content: \"\";position: absolute;border-left: 1px solid gray;box-sizing: border-box;top: 0;bottom: 0;left: 50%;z-index: -1;}#sk-container-id-1 div.sk-parallel-item {display: flex;flex-direction: column;z-index: 1;position: relative;background-color: white;}#sk-container-id-1 div.sk-parallel-item:first-child::after {align-self: flex-end;width: 50%;}#sk-container-id-1 div.sk-parallel-item:last-child::after {align-self: flex-start;width: 50%;}#sk-container-id-1 div.sk-parallel-item:only-child::after {width: 0;}#sk-container-id-1 div.sk-dashed-wrapped {border: 1px dashed gray;margin: 0 0.4em 0.5em 0.4em;box-sizing: border-box;padding-bottom: 0.4em;background-color: white;}#sk-container-id-1 div.sk-label label {font-family: monospace;font-weight: bold;display: inline-block;line-height: 1.2em;}#sk-container-id-1 div.sk-label-container {text-align: center;}#sk-container-id-1 div.sk-container {/* jupyter's `normalize.less` sets `[hidden] { display: none; }` but bootstrap.min.css set `[hidden] { display: none !important; }` so we also need the `!important` here to be able to override the default hidden behavior on the sphinx rendered scikit-learn.org. See: https://github.com/scikit-learn/scikit-learn/issues/21755 */display: inline-block !important;position: relative;}#sk-container-id-1 div.sk-text-repr-fallback {display: none;}</style><div id=\"sk-container-id-1\" class=\"sk-top-container\"><div class=\"sk-text-repr-fallback\"><pre>XGBRegressor(alpha=5, base_score=None, booster=&#x27;gbtree&#x27;, callbacks=None,\n",
              "             colsample_bylevel=None, colsample_bynode=None, colsample_bytree=1,\n",
              "             device=None, early_stopping_rounds=None, enable_categorical=False,\n",
              "             eval_metric=None, feature_types=None, gamma=None, grow_policy=None,\n",
              "             importance_type=&#x27;gain&#x27;, interaction_constraints=None,\n",
              "             learning_rate=0.2, max_bin=None, max_cat_threshold=None,\n",
              "             max_cat_to_onehot=None, max_delta_step=None, max_depth=5,\n",
              "             max_leaves=None, min_child_weight=None, missing=nan,\n",
              "             monotone_constraints=None, multi_strategy=None, n_estimators=200,\n",
              "             n_jobs=None, num_parallel_tree=None, ...)</pre><b>In a Jupyter environment, please rerun this cell to show the HTML representation or trust the notebook. <br />On GitHub, the HTML representation is unable to render, please try loading this page with nbviewer.org.</b></div><div class=\"sk-container\" hidden><div class=\"sk-item\"><div class=\"sk-estimator sk-toggleable\"><input class=\"sk-toggleable__control sk-hidden--visually\" id=\"sk-estimator-id-1\" type=\"checkbox\" checked><label for=\"sk-estimator-id-1\" class=\"sk-toggleable__label sk-toggleable__label-arrow\">XGBRegressor</label><div class=\"sk-toggleable__content\"><pre>XGBRegressor(alpha=5, base_score=None, booster=&#x27;gbtree&#x27;, callbacks=None,\n",
              "             colsample_bylevel=None, colsample_bynode=None, colsample_bytree=1,\n",
              "             device=None, early_stopping_rounds=None, enable_categorical=False,\n",
              "             eval_metric=None, feature_types=None, gamma=None, grow_policy=None,\n",
              "             importance_type=&#x27;gain&#x27;, interaction_constraints=None,\n",
              "             learning_rate=0.2, max_bin=None, max_cat_threshold=None,\n",
              "             max_cat_to_onehot=None, max_delta_step=None, max_depth=5,\n",
              "             max_leaves=None, min_child_weight=None, missing=nan,\n",
              "             monotone_constraints=None, multi_strategy=None, n_estimators=200,\n",
              "             n_jobs=None, num_parallel_tree=None, ...)</pre></div></div></div></div></div>"
            ]
          },
          "metadata": {},
          "execution_count": 42
        }
      ],
      "source": [
        "#Training\n",
        "model4.fit(X_train, y_train)#,\n",
        "#         eval_set=[(X_train, y_train), (X_test, y_test)], \\\n",
        "#         eval_metric='mlogloss', verbose=False)"
      ]
    },
    {
      "cell_type": "code",
      "execution_count": 43,
      "id": "8ccfd193",
      "metadata": {
        "id": "8ccfd193",
        "colab": {
          "base_uri": "https://localhost:8080/"
        },
        "outputId": "11e7b605-d290-4460-e1b9-9aab53a2a5b4"
      },
      "outputs": [
        {
          "output_type": "stream",
          "name": "stdout",
          "text": [
            "Mean cross-validation score: -2.43\n"
          ]
        }
      ],
      "source": [
        "#K-fold cross validation\n",
        "scores = cross_val_score(model4, X_train, y_train, cv=10)\n",
        "print(\"Mean cross-validation score: %.2f\" % scores.mean())"
      ]
    },
    {
      "cell_type": "code",
      "execution_count": 44,
      "id": "98f07b41",
      "metadata": {
        "id": "98f07b41",
        "colab": {
          "base_uri": "https://localhost:8080/"
        },
        "outputId": "db5b6c6b-9569-4443-9c5b-1994d61bd8c7"
      },
      "outputs": [
        {
          "output_type": "stream",
          "name": "stdout",
          "text": [
            "K-fold CV average score: -3.23\n"
          ]
        }
      ],
      "source": [
        "kfold = KFold(n_splits=10, shuffle=True)\n",
        "kf_cv_scores = cross_val_score(model4, X_train, y_train, cv=kfold )\n",
        "print(\"K-fold CV average score: %.2f\" % kf_cv_scores.mean())"
      ]
    },
    {
      "cell_type": "code",
      "execution_count": 45,
      "id": "27a2145a",
      "metadata": {
        "id": "27a2145a"
      },
      "outputs": [],
      "source": [
        "# Pred\n",
        "y_pred4 = model4.predict(X_test)"
      ]
    },
    {
      "cell_type": "code",
      "execution_count": 46,
      "id": "wanted-cleveland",
      "metadata": {
        "id": "wanted-cleveland",
        "colab": {
          "base_uri": "https://localhost:8080/"
        },
        "outputId": "358ffad4-a303-4bc5-930e-f588061c32fa"
      },
      "outputs": [
        {
          "output_type": "stream",
          "name": "stdout",
          "text": [
            "RMSE: 49442799.25\n",
            "MAE: 39519828.00\n",
            "R2: 0.33\n"
          ]
        }
      ],
      "source": [
        "# accuracy check\n",
        "rmse = MSE(y_test, y_pred4, squared=False)\n",
        "mae = MAE(y_test, y_pred4)\n",
        "r2 = r2_score(y_test, y_pred4)\n",
        "print(\"RMSE: %.2f\" % rmse)\n",
        "print(\"MAE: %.2f\" % mae)\n",
        "print(\"R2: %.2f\" % r2)"
      ]
    },
    {
      "cell_type": "code",
      "execution_count": 47,
      "id": "4c72aa60",
      "metadata": {
        "id": "4c72aa60",
        "colab": {
          "base_uri": "https://localhost:8080/",
          "height": 452
        },
        "outputId": "6d9b201d-0b4d-4422-b6bd-ad4ee05f694a"
      },
      "outputs": [
        {
          "output_type": "display_data",
          "data": {
            "text/plain": [
              "<Figure size 640x480 with 1 Axes>"
            ],
            "image/png": "[encoded data removed]"
          },
          "metadata": {}
        }
      ],
      "source": [
        "x_ax = range(len(y_test))\n",
        "plt.plot(x_ax, y_test, label=\"original\")\n",
        "plt.plot(x_ax, y_pred4, label=\"predicted\")\n",
        "plt.title(\"Car Prices: real vs. predicted\")\n",
        "plt.legend()\n",
        "plt.show()"
      ]
    }
  ],
  "metadata": {
    "kernelspec": {
      "display_name": "Python 3",
      "language": "python",
      "name": "python3"
    },
    "language_info": {
      "codemirror_mode": {
        "name": "ipython",
        "version": 3
      },
      "file_extension": ".py",
      "mimetype": "text/x-python",
      "name": "python",
      "nbconvert_exporter": "python",
      "pygments_lexer": "ipython3",
      "version": "3.7.7"
    },
    "colab": {
      "provenance": [],
      "include_colab_link": true
    }
  },
  "nbformat": 4,
  "nbformat_minor": 5
}